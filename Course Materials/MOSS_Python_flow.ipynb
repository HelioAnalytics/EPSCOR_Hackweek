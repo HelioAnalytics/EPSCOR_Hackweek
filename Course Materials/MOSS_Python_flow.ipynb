{
  "cells": [
    {
      "cell_type": "markdown",
      "metadata": {
        "id": "yNWgcAwYvVYI"
      },
      "source": [
        "<font color=\"white\">.</font> | <font color=\"white\">.</font> | <font color=\"white\">.</font>\n",
        "-- | -- | --\n",
        "![CfHA](https://raw.githubusercontent.com/HelioAnalytics/MOSS_python/master/images/cfha_logo.png) | <h1><font size=\"+3\">MOSS Python Tutorial Series</font></h1> | ![NASA](https://raw.githubusercontent.com/HelioAnalytics/MOSS_python/master/images/nccs_logo.png)\n",
        "\n",
        "---\n",
        "\n",
        "<center><h1>\n",
        "    <font color=\"red\">Python Control Flow</font>  \n",
        "</h1></center>"
      ]
    },
    {
      "cell_type": "markdown",
      "metadata": {
        "id": "gjfSFAITvVYK"
      },
      "source": [
        "Welcome to [Magnetosphere Online Seminar Series](https://msolss.github.io/MagSeminars/) Python Tutorials !  \n",
        "\n",
        "Note: This tutorial is designed to be run through Google Colab.  The repository version of this file is at https://github.com/HelioAnalytics/MOSS_python/blob/master/Course%20Materials/MOSS_Python_principles.ipynb\n",
        "\n",
        "The tutorial series site is https://github.com/HelioAnalytics/MOSS_python\n",
        "\n",
        "---"
      ]
    },
    {
      "cell_type": "markdown",
      "metadata": {
        "id": "Ach5FIQGvVYL"
      },
      "source": [
        "##  <font color='darkblue'> Control Flow </font>\n",
        "\n",
        "1. if/then/else\n",
        "1. for-loop/else    \n",
        "1. while-loop/else\n",
        "1. functions\n",
        "1. exceptions\n",
        "1. variable scope\n",
        "\n",
        "Some laguages use parentheses (IDL) or braces (C and C++) to control the flow of code or seperate statements. These seperators are required for the code to compile without errors. \n",
        "\n",
        "Python uses **indentation** or **white space**. This is typically easier to read and has the advantage that code is uniformly and consistently indented (which at times may be lost in languages using character seperators). \n",
        "\n",
        "This makes it easier understand and read other people's code; however, commenting is still important!\n",
        "\n",
        "---"
      ]
    },
    {
      "cell_type": "markdown",
      "metadata": {
        "id": "4wEUOrT6vVYL"
      },
      "source": [
        "### <font color='darkblue'> if/then/else </font>\n",
        "\n",
        "**if/then/else** statements evaluate an expression or series of expressions and decide whether the expression is **TRUE** or **FLASE**. This outcome dictates which condition (or block) of the statement is excuted.\n",
        "\n",
        "- If the intial expression is true excute the conditional statement which imidiately follows.\n",
        "- If the intial expression is false evalute the next expression which may be another **if** statement or an **else**.\n",
        "\n",
        "**Remember the indentation controls the flow and defines the condition code statement.**"
      ]
    },
    {
      "cell_type": "code",
      "execution_count": 26,
      "metadata": {
        "colab": {
          "base_uri": "https://localhost:8080/"
        },
        "id": "mdczYbRfvVYM",
        "outputId": "309a7876-b375-4d9f-9e19-d5b8bcf1a187"
      },
      "outputs": [
        {
          "output_type": "stream",
          "name": "stdout",
          "text": [
            "a is within the bounds.\n",
            "this is an extra line\n",
            "0\n"
          ]
        }
      ],
      "source": [
        "a = -10\n",
        "\n",
        "\n",
        "if a == 0.0:\n",
        "    print('zero')\n",
        "elif a > 10.0 or a < -10:\n",
        "    print(\"a is too big\")\n",
        "    if a < 0:\n",
        "        print(\"negative\")\n",
        "    \n",
        "else:\n",
        "    print(\"a is within the bounds.\")\n",
        "    \n",
        "print(\"this is an extra line\")\n",
        "\n",
        "if a < 1.e-1500:\n",
        "    a=0\n",
        "\n",
        "print(a)"
      ]
    },
    {
      "cell_type": "markdown",
      "metadata": {
        "id": "LjfLR6l0vVYN"
      },
      "source": [
        "Things to try :\n",
        "* seting a=0.001  0.00001   etc.   or try   1e-10  1e-50  1e-100   (when is it really zero in python?)\n",
        "* a = 100\n",
        "* a = -5"
      ]
    },
    {
      "cell_type": "markdown",
      "metadata": {
        "id": "Jqp8h7TsvVYP"
      },
      "source": [
        "## <font color='red'> Loops </font>\n",
        "\n",
        "Loops are used to sequentially execute a statement or group of statements allowing tasks which need to ran multiple times to be confined within the loop.\n",
        "\n",
        "### <font color='darkblue'>while-loop </font>\n",
        "\n",
        "The python while-loop requires a conditional statement and excutes as long as the condition is **TRUE**. \n",
        "\n",
        "In python you can also use the **else** clause (often overlooked) which excutes when the loop as finished."
      ]
    },
    {
      "cell_type": "code",
      "execution_count": 8,
      "metadata": {
        "collapsed": true,
        "colab": {
          "base_uri": "https://localhost:8080/"
        },
        "id": "TxqBRvZCvVYP",
        "outputId": "56968d64-756e-46a6-d66e-762dc5f25881"
      },
      "outputs": [
        {
          "output_type": "stream",
          "name": "stdout",
          "text": [
            "0 0\n",
            "1 1\n",
            "2 3\n",
            "3 6\n",
            "4 10\n",
            "5 15\n",
            "6 21\n",
            "7 28\n",
            "8 36\n",
            "9 45\n",
            "final sum 55\n"
          ]
        }
      ],
      "source": [
        "a = 0\n",
        "total = 0\n",
        "while a<10:\n",
        "    print(a,total)\n",
        "\n",
        "    a += 1\n",
        "    total += a\n",
        "else:\n",
        "    print(\"final sum\",total)\n",
        "    "
      ]
    },
    {
      "cell_type": "markdown",
      "metadata": {
        "id": "kcKiJb1YvVYN"
      },
      "source": [
        "### <font color='darkblue'> for-loops </font>\n",
        "\n",
        "The for-loop in python runs over an **iterator** and is used to exectute a block of code a fixed number of times. This is different from many other languages which itterate over a sequence of numbers or index specified by a start, end, and step (some languages). Both Matlab and IDL itterate over a sequence a numbers.\n",
        "\n",
        "Lists are the most common iterator to use in the python for-loop; however when working with arrays and data structures, packages like Numpy and Pandas provide several ways to loop over arrays and data structures.\n",
        "\n",
        "Similar to the while-loop, it also has an **else** clause."
      ]
    },
    {
      "cell_type": "code",
      "execution_count": 9,
      "metadata": {
        "collapsed": true,
        "colab": {
          "base_uri": "https://localhost:8080/"
        },
        "id": "y0ylgclxvVYO",
        "outputId": "14658f1b-9e54-42b8-c4cd-37f94021d5d8"
      },
      "outputs": [
        {
          "output_type": "stream",
          "name": "stdout",
          "text": [
            "1\n",
            "We're good!\n",
            "3\n",
            "We're good!\n",
            "-1\n",
            "We're good!\n",
            "10\n",
            "We're good!\n",
            "100\n",
            "0\n",
            "We're good!\n",
            "Completed all iterations of the loop!\n"
          ]
        }
      ],
      "source": [
        "# iterating over a list of numbers\n",
        "\n",
        "for i in [1,3,-1,10,100,0]:\n",
        "    print(i)\n",
        "    if i <= 10:\n",
        "        print(\"We're good!\")\n",
        "else:    \n",
        "    print(\"Completed all iterations of the loop!\")"
      ]
    },
    {
      "cell_type": "code",
      "execution_count": 10,
      "metadata": {
        "colab": {
          "base_uri": "https://localhost:8080/"
        },
        "id": "a_LA2atPvVYO",
        "outputId": "23cfd0be-b502-4387-d3d7-f8f0112f4c96"
      },
      "outputs": [
        {
          "output_type": "stream",
          "name": "stdout",
          "text": [
            "H\n",
            "D\n",
            "Z\n"
          ]
        }
      ],
      "source": [
        "# iterating over a list of strings\n",
        "\n",
        "w = ['H','D','Z']\n",
        "for s in w:\n",
        "    print(s)"
      ]
    },
    {
      "cell_type": "code",
      "execution_count": 28,
      "metadata": {
        "colab": {
          "base_uri": "https://localhost:8080/"
        },
        "id": "dIcpzceyvVYO",
        "outputId": "7cf0bb1a-364f-4e97-fc52-5cc0aa34dbb9"
      },
      "outputs": [
        {
          "output_type": "stream",
          "name": "stdout",
          "text": [
            "California ['UCLA', 'UCB', 'UCSD']\n",
            "Alberta ['UofA', 'UofC']\n"
          ]
        }
      ],
      "source": [
        "# iterating over the keys and values\n",
        "# of a dictionary\n",
        "\n",
        "uni_dic = {'California':['UCLA', 'UCB','UCSD'], 'Alberta':['UofA','UofC']}\n",
        "\n",
        "for k in uni_dic:\n",
        "    print(k, uni_dic[k])\n"
      ]
    },
    {
      "cell_type": "code",
      "execution_count": 12,
      "metadata": {
        "colab": {
          "base_uri": "https://localhost:8080/"
        },
        "id": "I_1r1wSrvVYP",
        "outputId": "73a08c83-972f-48f8-f5eb-0ba69f839df6"
      },
      "outputs": [
        {
          "output_type": "stream",
          "name": "stdout",
          "text": [
            "5\n",
            "10\n",
            "15\n",
            "20\n",
            "25\n",
            "30\n",
            "35\n",
            "40\n",
            "45\n",
            "50\n",
            "55\n",
            "60\n",
            "65\n",
            "70\n",
            "75\n",
            "80\n",
            "85\n",
            "90\n",
            "95\n"
          ]
        }
      ],
      "source": [
        "# if you prefer looping over a \n",
        "# sequence of number/index \n",
        "# you can use the range() function\n",
        "# use in the previous tutorial \n",
        "\n",
        "for i in range(5,100,5):\n",
        "    print(i)\n",
        "\n"
      ]
    },
    {
      "cell_type": "code",
      "source": [
        "# if you have more then one \n",
        "# list/variable to itterate over \n",
        "# you can use the build in zip()\n",
        "# function to access the variables  \n",
        "\n",
        "# note, while zip() is useful it is \n",
        "# very slow, using built in methods, iterators,\n",
        "# array manipulation (e.g., Numpy, SciPy, Pandas),\n",
        "# or removing loops entirely can\n",
        "# signifcantly speed up your code \n",
        "\n",
        "w = ['H','D','Z']\n",
        "x = [1,2,3]\n",
        "\n"
      ],
      "metadata": {
        "colab": {
          "base_uri": "https://localhost:8080/"
        },
        "id": "HzH9dpj5zx6-",
        "outputId": "aaaaedd1-c6c7-42f4-b1ce-d8f33c9f65a8"
      },
      "execution_count": 13,
      "outputs": [
        {
          "output_type": "stream",
          "name": "stdout",
          "text": [
            "H 1\n",
            "D 2\n",
            "Z 3\n"
          ]
        }
      ]
    },
    {
      "cell_type": "markdown",
      "metadata": {
        "collapsed": true,
        "id": "IL1ntJXJvVYQ"
      },
      "source": [
        "### <font color='darkblue'>Loop Control Statements</font>\n",
        "\n",
        "Statements which either exit a loop or move onto the next iteration of loop \n",
        "- ```break```, terminate the loop regardless of the condition\n",
        "- ```continue```, move to the next iteration and retest the condition"
      ]
    },
    {
      "cell_type": "code",
      "execution_count": 15,
      "metadata": {
        "collapsed": true,
        "colab": {
          "base_uri": "https://localhost:8080/"
        },
        "id": "xwkz1MeCvVYQ",
        "outputId": "052020b1-1ac3-473a-c01b-f7c77deaa8c6"
      },
      "outputs": [
        {
          "output_type": "stream",
          "name": "stdout",
          "text": [
            "1\n",
            "We're good!\n",
            "3\n",
            "-1\n",
            "We're good!\n",
            "100\n",
            "Break!!\n"
          ]
        }
      ],
      "source": [
        "for i in [1,3,-1,10,88,0]:\n",
        "    print(i)\n",
        "    \n",
        "    if i == 3: \n",
        "        continue\n",
        "        \n",
        "    if i <= 10:\n",
        "        print(\"We're good!\")\n",
        "        \n",
        "    if i>=90:\n",
        "        print(\"Break!!\")\n",
        "        break\n",
        "else:\n",
        "    print(\"only if there is no break\")"
      ]
    },
    {
      "cell_type": "markdown",
      "metadata": {
        "collapsed": true,
        "id": "Iga0EhXHvVYQ"
      },
      "source": [
        "## <font color='red'> Functions </font>\n",
        "\n",
        "Functions are the classic analog of functions in languages like Fortran and C. However, Python is object oriented and so it has a ```class``` as well, much like C++ and Java.\n",
        "\n",
        "**Note**, in Python we can get additional functionality by importing packages. \n",
        "\n",
        "You can read more about installing packages with ```Anaconda``` [here](https://docs.anaconda.com/anaconda/user-guide/tasks/install-packages/). Most Python packages have excellent installation instructions which can be installed using either ```conda``` or ```pip``` (which comes as part of Anaconda). \n",
        "\n",
        "More on Conda and Pip:\n",
        "- [Understanding Conda and Pip](https://www.anaconda.com/blog/understanding-conda-and-pip)\n",
        "- [Using Pip in a Conda Environment](https://www.anaconda.com/blog/using-pip-in-a-conda-environment)\n"
      ]
    },
    {
      "cell_type": "code",
      "execution_count": 32,
      "metadata": {
        "collapsed": true,
        "scrolled": true,
        "colab": {
          "base_uri": "https://localhost:8080/"
        },
        "id": "p4mZ7cv8vVYQ",
        "outputId": "d047e3a1-133b-4884-e557-f61cd09d2b4c"
      },
      "outputs": [
        {
          "output_type": "stream",
          "name": "stdout",
          "text": [
            "-2.0\n",
            "0.0\n",
            "2.0\n",
            "end of loop\n",
            "4.0\n",
            "2.0\n"
          ]
        }
      ],
      "source": [
        "# in Python we can get \n",
        "# additional functionality\n",
        "# by importing python packages\n",
        "\n",
        "import math\n",
        "\n",
        "def mysqrt(x):\n",
        "    '''\n",
        "    This is my sqrt function (comment vs. docstring)\n",
        "    \n",
        "    This is the docstring for mysqrt!\n",
        "\n",
        "    Here is more text!\n",
        "    '''\n",
        "    \n",
        "    if x < 0:\n",
        "        return -math.sqrt(-x)\n",
        "    else:\n",
        "        return math.sqrt(x)\n",
        "\n",
        "    \n",
        "\n",
        "for x2 in [-4.0, 0.0, 4.0]:\n",
        "    #print(x2)\n",
        "    print(mysqrt(x2))\n",
        "    #print(x2)\n",
        "else:\n",
        "    print('end of loop')\n",
        "    \n",
        "print(x2)\n",
        "\n",
        "#this function call also works\n",
        "print(mysqrt(x=x2))"
      ]
    },
    {
      "cell_type": "code",
      "execution_count": 34,
      "metadata": {
        "collapsed": true,
        "scrolled": true,
        "colab": {
          "base_uri": "https://localhost:8080/"
        },
        "id": "_bxEmwEhvVYQ",
        "outputId": "f6c78909-7cef-4664-f23d-d07eadf0c022"
      },
      "outputs": [
        {
          "output_type": "stream",
          "name": "stdout",
          "text": [
            "Help on function mysqrt in module __main__:\n",
            "\n",
            "mysqrt(x)\n",
            "    This is my sqrt function (comment vs. docstring)\n",
            "    \n",
            "    This is the docstring for mysqrt!\n",
            "    \n",
            "    Here is more text!\n",
            "\n"
          ]
        }
      ],
      "source": [
        "help(mysqrt)"
      ]
    },
    {
      "cell_type": "code",
      "execution_count": 19,
      "metadata": {
        "collapsed": true,
        "colab": {
          "base_uri": "https://localhost:8080/"
        },
        "id": "U4asbj_2vVYR",
        "outputId": "61f0ab43-83cd-4643-8f47-be118b8b4557"
      },
      "outputs": [
        {
          "output_type": "stream",
          "name": "stdout",
          "text": [
            "\n",
            "    This is the docstring for mysqrt!\n",
            "    \n",
            "    Here is more text!\n",
            "    \n",
            "Help on function mysqrt in module __main__:\n",
            "\n",
            "mysqrt(x)\n",
            "    This is the docstring for mysqrt!\n",
            "    \n",
            "    Here is more text!\n",
            "\n"
          ]
        }
      ],
      "source": [
        "print(mysqrt.__doc__)\n",
        "help(mysqrt)"
      ]
    },
    {
      "cell_type": "markdown",
      "metadata": {
        "id": "NAa2qe7nvVYR"
      },
      "source": [
        "### Function Arguments\n",
        "\n",
        "- Required Arguments: Arguments passed in the correct order\n",
        "\n",
        "```python\n",
        "a = mysqrt(4)\n",
        "```\n",
        "\n",
        "- Keyword Arguements: Identify the arguments by the parameter name\n",
        "\n",
        "```python\n",
        "a = mysqrt(x=4)\n",
        "```\n",
        "\n",
        "- Default Arguments: If nothing is passed then an argument assuems a predefined (*default*) value.\n",
        "```python\n",
        "a = mysqrt(4,True)\n",
        "a = mysqrt(classic=True, x=4,verbose=True)\n",
        "```\n",
        "\n"
      ]
    },
    {
      "cell_type": "code",
      "execution_count": 25,
      "metadata": {
        "collapsed": true,
        "scrolled": true,
        "colab": {
          "base_uri": "https://localhost:8080/"
        },
        "id": "lEuWlHttvVYR",
        "outputId": "c13dbf2f-3264-469f-eda8-b144b2eda6be"
      },
      "outputs": [
        {
          "output_type": "stream",
          "name": "stdout",
          "text": [
            "-2.0\n",
            "correct 2.0\n",
            "1.4142135623730951\n",
            "1.4142135623730951\n"
          ]
        }
      ],
      "source": [
        "#Example: Default Arguments\n",
        "\n",
        "def mysqrt(x,verbose=False,classic=False):\n",
        "    import math\n",
        "    if classic:\n",
        "        if verbose: print(\"classic\",x)\n",
        "        return math.sqrt(x)\n",
        "    elif x < 0:\n",
        "        if verbose: print(\"fixing\",x)\n",
        "        return -math.sqrt(-x)\n",
        "    else:\n",
        "        if verbose: print(\"correct\",x)\n",
        "        return math.sqrt(x)\n",
        "\n",
        "print(mysqrt(-4.0))\n",
        "print(mysqrt(2.0,True))\n",
        "print(mysqrt(2.0,classic=True))"
      ]
    },
    {
      "cell_type": "markdown",
      "metadata": {
        "id": "9yUbUYYAvVYS"
      },
      "source": [
        "## <font color='red'> Exception Handling </font>\n",
        "\n",
        "Not the error above. Errors or Exceptions disrupt the flow of code in a program and occur when Python cannot handle a particular peice or line of code. This could incluide passing the wrong or incorrect number of arguments to a function. In the case above, the ```math.sqrt( )``` function cannot handle negative numbers.\n",
        "\n",
        "These exceptions can be handled with try/except/else blocks of code. If an error occurs the execution in the try block is transferred to the except block. In this way code can continue even if there's an error. This is helpful when you have a particularly 'buggy' peice of code or are trying to isolate an error.\n"
      ]
    },
    {
      "cell_type": "code",
      "execution_count": null,
      "metadata": {
        "collapsed": true,
        "colab": {
          "base_uri": "https://localhost:8080/"
        },
        "id": "tn-vRXXJvVYS",
        "outputId": "c3900cbb-a874-4d12-be45-a64b8629a5e5"
      },
      "outputs": [
        {
          "output_type": "stream",
          "name": "stdout",
          "text": [
            "some error, deal with it\n"
          ]
        }
      ],
      "source": [
        "#Example: try,except\n",
        "\n",
        "try:\n",
        "    print(mysqrt(-2.0,classic=True))\n",
        "except:\n",
        "    print(\"some error, deal with it\")\n",
        "    "
      ]
    },
    {
      "cell_type": "markdown",
      "metadata": {
        "id": "7D4F6JDkvVYS"
      },
      "source": [
        "You can also define the type of Exception following the **except** which will execute only for that particular exception.\n",
        "\n",
        "A list and description of Exceptions can be found [here](https://www.tutorialspoint.com/python/python_exceptions.htm)."
      ]
    },
    {
      "cell_type": "code",
      "execution_count": 24,
      "metadata": {
        "collapsed": true,
        "colab": {
          "base_uri": "https://localhost:8080/"
        },
        "id": "xaA8I2mHvVYT",
        "outputId": "d8c3c617-98c4-4c87-dc17-fa2bd4924ac6"
      },
      "outputs": [
        {
          "output_type": "stream",
          "name": "stdout",
          "text": [
            "NameErrors occur when you try to use a variable that hasn't been defined yet.\n"
          ]
        }
      ],
      "source": [
        "#Example: defining the exception\n",
        "\n",
        "try:\n",
        "    print(some_new_variable)\n",
        "    print(mysqrt(-2.0,classic=True))\n",
        "except ValueError:\n",
        "    print(\"Some error\")\n",
        "except NameError:\n",
        "    print(\"NameErrors occur when you try to use a variable that hasn't been defined yet.\")"
      ]
    },
    {
      "cell_type": "markdown",
      "metadata": {
        "id": "v7yBnunRvVYT"
      },
      "source": [
        "## <font color='red'> Variable Scope </font>\n",
        "\n",
        "As in other languages, objects inside a function are not visible outside and vice versa, but perhaps with a tiny twist.\n",
        "\n",
        "- Global Variables: accessed throughout a program\n",
        "- Local Variables: those defined in a function and can only be accessed within the function"
      ]
    },
    {
      "cell_type": "code",
      "execution_count": null,
      "metadata": {
        "colab": {
          "base_uri": "https://localhost:8080/"
        },
        "id": "Mb3FF_g7vVYT",
        "outputId": "3c21d919-9a91-43a8-b60f-b857c39ac9d0"
      },
      "outputs": [
        {
          "output_type": "stream",
          "name": "stdout",
          "text": [
            "3.0\n",
            "5.0\n"
          ]
        }
      ],
      "source": [
        "#Example 1: Global Variables\n",
        "\n",
        "a1 = 1.0\n",
        "def testa(x):\n",
        "    global a1\n",
        "    print(a1+x)\n",
        "    a1 = a1 + x\n",
        "\n",
        "testa(2.0)\n",
        "testa(2.0)\n"
      ]
    },
    {
      "cell_type": "code",
      "execution_count": null,
      "metadata": {
        "colab": {
          "base_uri": "https://localhost:8080/",
          "height": 235
        },
        "id": "ld0UyhbgvVYT",
        "outputId": "6a9d6d1e-ce57-488d-b6f5-a586b6fc288d"
      },
      "outputs": [
        {
          "output_type": "stream",
          "name": "stdout",
          "text": [
            "3.0\n",
            "5.0\n"
          ]
        },
        {
          "output_type": "error",
          "ename": "NameError",
          "evalue": "ignored",
          "traceback": [
            "\u001b[0;31m---------------------------------------------------------------------------\u001b[0m",
            "\u001b[0;31mNameError\u001b[0m                                 Traceback (most recent call last)",
            "\u001b[0;32m<ipython-input-15-dbbbb9b8741f>\u001b[0m in \u001b[0;36m<module>\u001b[0;34m()\u001b[0m\n\u001b[1;32m      9\u001b[0m \u001b[0mtesta\u001b[0m\u001b[0;34m(\u001b[0m\u001b[0;36m2.0\u001b[0m\u001b[0;34m)\u001b[0m\u001b[0;34m\u001b[0m\u001b[0;34m\u001b[0m\u001b[0m\n\u001b[1;32m     10\u001b[0m \u001b[0mtesta\u001b[0m\u001b[0;34m(\u001b[0m\u001b[0;36m2.0\u001b[0m\u001b[0;34m)\u001b[0m\u001b[0;34m\u001b[0m\u001b[0;34m\u001b[0m\u001b[0m\n\u001b[0;32m---> 11\u001b[0;31m \u001b[0mprint\u001b[0m\u001b[0;34m(\u001b[0m\u001b[0my\u001b[0m\u001b[0;34m)\u001b[0m\u001b[0;34m\u001b[0m\u001b[0;34m\u001b[0m\u001b[0m\n\u001b[0m",
            "\u001b[0;31mNameError\u001b[0m: name 'y' is not defined"
          ]
        }
      ],
      "source": [
        "#Example 2: Local Variables\n",
        "\n",
        "a1 = 1.0\n",
        "def testa(x):\n",
        "    global a1\n",
        "    print(a1+x)\n",
        "    a1 = a1 + x\n",
        "    y = a1 - x\n",
        "testa(2.0)\n",
        "testa(2.0)\n",
        "print(y)"
      ]
    },
    {
      "cell_type": "markdown",
      "source": [
        "## <font color='red'> Announcements </font>\n"
      ],
      "metadata": {
        "id": "1SRe6Y0W1gvD"
      }
    },
    {
      "cell_type": "markdown",
      "source": [
        "### Python in Heliophysics Summer School  \n",
        "30 May 2022 – Friday, 3 June 2022 Madrid, Spain and Virtual\n",
        "This event is free and open to all graduate students, early career scientists, and established scientists looking to transition to Python in the Heliophysics and Space Weather disciplines.\n",
        "\n",
        "https://www.cosmos.esa.int/web/ihdea/2022-pyhc-summer-school\n",
        "\n",
        "https://heliopython.org/summer-school\n",
        "\n",
        "### Aditional Resources\n",
        "\n",
        "[Scipy Lecture Notes](http://scipy-lectures.org/)\n",
        "[Mathesaurus - a thesaurus of Mathematical Languages](http://mathesaurus.sourceforge.net/) including ```Python, R, IDL, Matlab```\n",
        "\n",
        "\n",
        "### Special issue: Python in Space Physics\n",
        "Frontiers in Astronomy and Space Sciences and Frontiers in Physics are currently soliciting manuscripts for a special issue on Python within the space physics community.  If you have a package you'd like to publish or an established package whose scientific impact you'd like to review, please consider submitting your work.  The science disciplines encompass geospace (Earth's atmosphere, ionosphere, and magnetosphere), planetary sciences, solar physics, and other solar system science disciplines.  Abstracts are due by 31 May 2022, and manuscripts are due by 29 July 2022.  You can learn more about the special issue here:  https://www.frontiersin.org/research-topics/33555/snakes-on-a-spaceship-an-overview-of-python-in-space-physics\n",
        "From Angeline Burrell, John Coxon, Leslie Lamarche, Michael Aye, Sophie Murray\n",
        "\n",
        "### There is no seminar April 18\n"
      ],
      "metadata": {
        "id": "faWUcoEt1jS4"
      }
    }
  ],
  "metadata": {
    "anaconda-cloud": {},
    "kernelspec": {
      "display_name": "Python 3",
      "language": "python",
      "name": "python3"
    },
    "language_info": {
      "codemirror_mode": {
        "name": "ipython",
        "version": 3
      },
      "file_extension": ".py",
      "mimetype": "text/x-python",
      "name": "python",
      "nbconvert_exporter": "python",
      "pygments_lexer": "ipython3",
      "version": "3.7.3"
    },
    "colab": {
      "name": "MOSS_Python_flow_kb.ipynb",
      "provenance": []
    }
  },
  "nbformat": 4,
  "nbformat_minor": 0
}