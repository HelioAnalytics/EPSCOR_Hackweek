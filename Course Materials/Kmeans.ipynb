{
  "cells": [
    {
      "cell_type": "markdown",
      "id": "91f157d5-fbc2-4e42-a2d8-6ecc64a5f245",
      "metadata": {
        "id": "91f157d5-fbc2-4e42-a2d8-6ecc64a5f245"
      },
      "source": [
        "This exercise only requires `numpy` and `matplotlib`."
      ]
    },
    {
      "cell_type": "code",
      "execution_count": null,
      "id": "7ca6d270-f2a2-4337-8ccf-a10964114c72",
      "metadata": {
        "id": "7ca6d270-f2a2-4337-8ccf-a10964114c72"
      },
      "outputs": [],
      "source": [
        "import numpy as np\n",
        "import matplotlib.pyplot as plt"
      ]
    },
    {
      "cell_type": "markdown",
      "id": "1e409bb6-d1e3-4786-88e4-d7ec28df5d81",
      "metadata": {
        "id": "1e409bb6-d1e3-4786-88e4-d7ec28df5d81"
      },
      "source": [
        "We choose `nc` which is the number of centroids. We then randomly generate data to be in three areas of the x-y space. The last line (concatenating the data with zeros) is to create a column where we can assign a centroid/color."
      ]
    },
    {
      "cell_type": "code",
      "execution_count": null,
      "id": "84e7725e-769c-41da-8502-a59476b830e0",
      "metadata": {
        "id": "84e7725e-769c-41da-8502-a59476b830e0"
      },
      "outputs": [],
      "source": [
        "nc = 3\n",
        "dat1 = 2*np.random.rand(25,2) + 6\n",
        "dat1[:,0] -= 3\n",
        "dat2 = 2*np.random.rand(25,2) + 1\n",
        "dat3 = np.random.rand(25,2) + 3\n",
        "dat3[:,0] += 4\n",
        "dat = np.concatenate((dat1,dat2,dat3),axis=0)\n",
        "dat = np.concatenate((dat,np.zeros(shape=(dat.shape[0],1))),axis=1)"
      ]
    },
    {
      "cell_type": "markdown",
      "id": "52ce2783-e8d9-40e0-b2ab-938fa68968fb",
      "metadata": {
        "id": "52ce2783-e8d9-40e0-b2ab-938fa68968fb"
      },
      "source": [
        "Next, we choose three centroid locations. I have them fixed to be in the middle. You can change which line is commented to generate random initial centroid locations."
      ]
    },
    {
      "cell_type": "code",
      "source": [
        "#cent = 5*np.random.rand(nc,2) + 2\n",
        "cent = np.array([[4,4],[4,4.5],[3.9,4.4]])"
      ],
      "metadata": {
        "id": "hOMiAidBLfoW"
      },
      "id": "hOMiAidBLfoW",
      "execution_count": null,
      "outputs": []
    },
    {
      "cell_type": "markdown",
      "source": [
        "Let's plot the data and current centroids. You'll see the three distinct groupings and can probably tell where the three centroids will end up. Through the K-means iterations, the samples will be assigned to the closest centroid and the color will show that."
      ],
      "metadata": {
        "id": "bkUMtQEtLfxd"
      },
      "id": "bkUMtQEtLfxd"
    },
    {
      "cell_type": "code",
      "source": [
        "fig,ax=plt.subplots()\n",
        "plt.scatter(dat[:,0],dat[:,1],color='black')\n",
        "plt.scatter(cent[0,0],cent[0,1],color='blue',s=400)\n",
        "plt.scatter(cent[1,0],cent[1,1],color='red',s=400)\n",
        "plt.scatter(cent[2,0],cent[2,1],color='green',s=400)"
      ],
      "metadata": {
        "colab": {
          "base_uri": "https://localhost:8080/",
          "height": 282
        },
        "id": "BZRXvArDLqYh",
        "outputId": "e7ac01fc-4e7e-47a6-f17a-eb1b063b2b0b"
      },
      "id": "BZRXvArDLqYh",
      "execution_count": null,
      "outputs": [
        {
          "output_type": "execute_result",
          "data": {
            "text/plain": [
              "<matplotlib.collections.PathCollection at 0x7f4884cb7450>"
            ]
          },
          "metadata": {},
          "execution_count": 14
        },
        {
          "output_type": "display_data",
          "data": {
            "text/plain": [
              "<Figure size 432x288 with 1 Axes>"
            ],
            "image/png": "[encoded data removed]"
          },
          "metadata": {
            "needs_background": "light"
          }
        }
      ]
    },
    {
      "cell_type": "markdown",
      "source": [
        "This is the complicated part. This is the definition of the K-means function which will iterate until there is no change in classification of all samples. I have commented through the function to help the understanding."
      ],
      "metadata": {
        "id": "EsTFxlg4LqgE"
      },
      "id": "EsTFxlg4LqgE"
    },
    {
      "cell_type": "code",
      "execution_count": null,
      "id": "48ef84bd-e786-4850-a6c1-77b779728b4b",
      "metadata": {
        "id": "48ef84bd-e786-4850-a6c1-77b779728b4b"
      },
      "outputs": [],
      "source": [
        "def k_means(dat,cent,nc):\n",
        "    # any sample with the last column of 0, 1, or 2 is associated with the 1st, 2nd, or 3rd centroid, respectively\n",
        "    c1 = dat[dat[:,2]==0,:2]\n",
        "    c2 = dat[dat[:,2]==1,:2]\n",
        "    c3 = dat[dat[:,2]==2,:2]\n",
        "    # initialize the condition for the while loop and start the iteration counter\n",
        "    k = 2\n",
        "    counter = 0\n",
        "    while k > 0:\n",
        "        orig = dat[:,2] # this determines the initial \"classification\" of each sample\n",
        "        # the next 5 lines compute the distance of each sample to all centroids then finds the closest centroid for each sample\n",
        "        for i in range(dat.shape[0]):\n",
        "            dist = np.zeros(nc)\n",
        "            for j in range(nc):\n",
        "                dist[j] = np.sqrt(np.sum(np.power(dat[i,:2]-cent[j,:],2)))\n",
        "            dat[i,2] = np.argmin(dist)\n",
        "        # next we are assigning each sample a label according to its closest centroid\n",
        "        c1 = dat[dat[:,2]==0,:2]\n",
        "        c2 = dat[dat[:,2]==1,:2]\n",
        "        c3 = dat[dat[:,2]==2,:2]\n",
        "        # move the centroids closer to the samples assigned to it\n",
        "        if c1.shape[0] != 0:\n",
        "            cent[0,0] -= np.sum(cent[0,0]-c1[:,0])/c1.shape[0]\n",
        "            cent[0,1] -= np.sum(cent[0,1]-c1[:,1])/c1.shape[0]\n",
        "        if c2.shape[0] != 0:\n",
        "            cent[1,0] -= np.sum(cent[1,0]-c2[:,0])/c2.shape[0]\n",
        "            cent[1,1] -= np.sum(cent[1,1]-c2[:,1])/c2.shape[0]\n",
        "        if c3.shape[0] != 0:\n",
        "            cent[2,0] -= np.sum(cent[2,0]-c3[:,0])/c3.shape[0]\n",
        "            cent[2,1] -= np.sum(cent[2,1]-c3[:,1])/c3.shape[0]\n",
        "        # recompute distances with updated centroid locations\n",
        "        new = np.zeros(len(orig))\n",
        "        for i in range(dat.shape[0]):\n",
        "            dist = np.zeros(nc)\n",
        "            for j in range(nc):\n",
        "                dist[j] = np.sqrt(np.sum(np.power(dat[i,:2]-cent[j,:],2)))\n",
        "            new[i] = np.argmin(dist)\n",
        "        # find out how many samples changed their assignment\n",
        "        k = np.sum(np.abs(orig-new))\n",
        "    return c1,c2,c3,cent"
      ]
    },
    {
      "cell_type": "markdown",
      "id": "3a104fa6-3844-4f11-a5b3-2fd19bb0e7f6",
      "metadata": {
        "id": "3a104fa6-3844-4f11-a5b3-2fd19bb0e7f6"
      },
      "source": [
        "Run the `k_means` function."
      ]
    },
    {
      "cell_type": "code",
      "execution_count": null,
      "id": "3cd556ca-cd49-48fd-a98e-482423f19ee9",
      "metadata": {
        "id": "3cd556ca-cd49-48fd-a98e-482423f19ee9"
      },
      "outputs": [],
      "source": [
        "c1,c2,c3,cent = k_means(dat,cent,nc)"
      ]
    },
    {
      "cell_type": "markdown",
      "id": "d0407444-a374-4fd0-a2fb-45269d945881",
      "metadata": {
        "id": "d0407444-a374-4fd0-a2fb-45269d945881"
      },
      "source": [
        "Plot final results."
      ]
    },
    {
      "cell_type": "code",
      "execution_count": null,
      "id": "ab5852c3-7504-48f9-9658-f6dcd0c1446f",
      "metadata": {
        "id": "ab5852c3-7504-48f9-9658-f6dcd0c1446f",
        "colab": {
          "base_uri": "https://localhost:8080/",
          "height": 282
        },
        "outputId": "7e6c6e10-c93c-4ec6-ef34-95b38c940406"
      },
      "outputs": [
        {
          "output_type": "execute_result",
          "data": {
            "text/plain": [
              "<matplotlib.collections.PathCollection at 0x7f4884c43e50>"
            ]
          },
          "metadata": {},
          "execution_count": 17
        },
        {
          "output_type": "display_data",
          "data": {
            "text/plain": [
              "<Figure size 432x288 with 1 Axes>"
            ],
            "image/png": "[encoded data removed]"
          },
          "metadata": {
            "needs_background": "light"
          }
        }
      ],
      "source": [
        "fig,ax=plt.subplots()\n",
        "plt.scatter(c1[:,0],c1[:,1],color='blue')\n",
        "plt.scatter(c2[:,0],c2[:,1],color='red')\n",
        "plt.scatter(c3[:,0],c3[:,1],color='green')\n",
        "plt.scatter(cent[0,0],cent[0,1],color='blue',s=400)\n",
        "plt.scatter(cent[1,0],cent[1,1],color='red',s=400)\n",
        "plt.scatter(cent[2,0],cent[2,1],color='green',s=400)"
      ]
    }
  ],
  "metadata": {
    "kernelspec": {
      "display_name": "Python 3 (ipykernel)",
      "language": "python",
      "name": "python3"
    },
    "language_info": {
      "codemirror_mode": {
        "name": "ipython",
        "version": 3
      },
      "file_extension": ".py",
      "mimetype": "text/x-python",
      "name": "python",
      "nbconvert_exporter": "python",
      "pygments_lexer": "ipython3",
      "version": "3.9.7"
    },
    "colab": {
      "name": "Kmeans.ipynb",
      "provenance": [],
      "collapsed_sections": []
    }
  },
  "nbformat": 4,
  "nbformat_minor": 5
}