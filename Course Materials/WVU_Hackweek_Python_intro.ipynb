{
  "cells": [
    {
      "cell_type": "markdown",
      "metadata": {
        "id": "vNZr3TFfYmGs"
      },
      "source": [
        "<font color=\"white\">.</font> | <font color=\"white\">.</font> | <font color=\"white\">.</font>\n",
        "-- | -- | --\n",
        "![CfHA](https://raw.githubusercontent.com/HelioAnalytics/EPSCOR_Hackweek/master/images/cfha_logo.png) | <h1><font size=\"+3\">WVU Hackweek Python Tutorials</font></h1> | ![NASA](https://raw.githubusercontent.com/HelioAnalytics/EPSCOR_Hackweek/master/images/nccs_logo.png)\n",
        "\n",
        "---\n",
        "\n",
        "<center><h1>\n",
        "    <font color=\"red\">Introduction to Python and Code Sharing</font>  \n",
        "</h1></center>"
      ]
    },
    {
      "cell_type": "markdown",
      "metadata": {
        "id": "55haFOHkN64M"
      },
      "source": [
        "Welcome to the First [WVU EPSCOR Hackweek](https://www.nasawvepscor.org/hack-week/) Python Tutorial!  \n",
        "\n",
        "Note: This tutorial is designed to be run through Google Colab.  The repository containing this file can be found at https://github.com/HelioAnalytics/EPSCOR_Hackweek/tree/main/Course%20Materials \n",
        "\n",
        "The tutorial series site is https://github.com/HelioAnalytics/EPSCOR_Hackweek\n",
        "\n",
        "---"
      ]
    },
    {
      "cell_type": "markdown",
      "metadata": {
        "id": "a-bMPa-kN64N"
      },
      "source": [
        "## <font color='red'> Getting started</font>\n"
      ]
    },
    {
      "cell_type": "markdown",
      "metadata": {
        "id": "2QbeR0SIN64N"
      },
      "source": [
        "Why Learn Python?  [Intro Presentation](https://docs.google.com/presentation/d/1A7Gesz8DzXBZ-tRLvcRfsX09E0PTj1RRyCEWcmuc1d0/edit#slide=id.gb98c9bbaa9_0_8)"
      ]
    },
    {
      "cell_type": "markdown",
      "metadata": {
        "id": "BSLdg75KN64O"
      },
      "source": [
        "*This is a very simple way to run python code:*  "
      ]
    },
    {
      "cell_type": "markdown",
      "metadata": {
        "id": "FOlu3dX2YmG2"
      },
      "source": [
        "\n",
        "1. If you have Python installed on your computer, you can create a new ASCII/text document named `my_first_python_file.py` and enter the following text:\n",
        "\n",
        "```python\n",
        "#!/usr/bin/env python\n",
        "print('Hello World!')\n",
        "```\n",
        " \n",
        "2. Save the document and then in your terminal/Anaconda prompt, go to the directory containing the newly created file.\n",
        "\n",
        "\n",
        "3. From the terminal/Anaconda prompt, type:\n",
        "\n",
        "      `python my_first_python_file.py`\n",
        "\n",
        "\n",
        "4. You should see the output on the screen:\n",
        "\n",
        "![](https://raw.githubusercontent.com/HelioAnalytics/MOSS_python/master/images/HelloWorld.png)\n",
        "\n"
      ]
    },
    {
      "cell_type": "markdown",
      "metadata": {
        "id": "k9QDfbZXlEEH"
      },
      "source": [
        "***However, this course does not require you to have Python installed (but it helps!).***  This is a \"Jupyter notebook\" and you can use and edit it in a web browser on Google Colab. You can interact with this notebook and practice commands.  \n",
        "\n",
        "*Note: You cannot save changes to this notebook in Google Colab.  If you want to keep the changes select the file menu above and either save it to Google Drive or download a local copy to your computer.*\n",
        "\n",
        "There are two types of cells in this notebook: Code  and Text.  Text cells use markup (text formatting) language and can also include images, like the output image above.  Below is a cell that has someone else's name in it.  Double click on it and make it your own name.  When you're finished, hit Shift + Return to exit.\n",
        "\n",
        "---\n",
        "\n",
        "\n"
      ]
    },
    {
      "cell_type": "markdown",
      "metadata": {
        "id": "IlNsvf5SqAut"
      },
      "source": [
        "My name is Tyler Durden."
      ]
    },
    {
      "cell_type": "markdown",
      "metadata": {
        "id": "6P5iYWe3N64Q"
      },
      "source": [
        "## <font color='red'> Jupyter Notebooks </font>"
      ]
    },
    {
      "cell_type": "markdown",
      "metadata": {
        "id": "_JepxiuOYmG3"
      },
      "source": [
        "Jupyter notebooks are an interactive form of Python code (and other types of code, though python is most common). The Python script above had the extension .py, while Jupyter Python notebooks have extension .ipynb  \n",
        "\n",
        "There are several advantages to coding with Jupyter notebooks: \n",
        "\n",
        "* They are a useful hybrid of the interactive terminal and the self-contained script. It is a document format that allows executable code, formatted text, graphics, and even interactive features to be combined into a single document. \n",
        "* Though the notebook began as a Python-only format, it has since been made compatible with a large number of programming languages. \n",
        "* The notebook is useful both as a development environment, and as a means of sharing work via rich computational and data-driven narratives that mix together code, figures, data, and text.\n",
        "\n",
        "The Jupyter notebook's hybrid of code, output display, and annotation make it ideal for collaboration and sharing.  \n"
      ]
    },
    {
      "cell_type": "markdown",
      "metadata": {
        "id": "4jCf7DBv2xHz"
      },
      "source": [
        "So far all of the cells in this notebook have been text.  If you want to add another text cell, click + Text in the menu above.  A new cell will appear and you can add whatever you like.  The formatting menu contains common markup commands (like boldface, indenting, bullets, etc.).  When you are finished editing you can hit Shift + Enter. \n",
        "\n",
        "\n"
      ]
    },
    {
      "cell_type": "markdown",
      "metadata": {
        "id": "7eGQDEO23Yx2"
      },
      "source": [
        "#### <font color='red'> Python Code </font>"
      ]
    },
    {
      "cell_type": "markdown",
      "metadata": {
        "id": "go-ws5qh2u61"
      },
      "source": [
        "In the Python Code Files example, you saw that the command to print \"Hello World!\" is:\n",
        "```\n",
        "print('Hello World!')\n",
        "```\n",
        "\n",
        "The following cell is a Code cell with that command. Code cells are indicated by square brackets [ ] in the left margin.  If the brackets contain a number, that indicates the order in which a cell was executed.  \n",
        "\n",
        "Advance to the next several cells, and Shift + Return each to execute each of the commands:  "
      ]
    },
    {
      "cell_type": "code",
      "execution_count": null,
      "metadata": {
        "id": "WiMfT6bZ2vYF",
        "outputId": "9d412cd2-455c-4aef-e011-572bbf4b806e",
        "colab": {
          "base_uri": "https://localhost:8080/"
        }
      },
      "outputs": [
        {
          "output_type": "stream",
          "name": "stdout",
          "text": [
            "Hello World!\n"
          ]
        }
      ],
      "source": [
        "print('Hello World!')"
      ]
    },
    {
      "cell_type": "code",
      "execution_count": null,
      "metadata": {
        "id": "W6depEYnN64U",
        "outputId": "e06352b7-ef8f-4518-cc1b-d781084910d6",
        "colab": {
          "base_uri": "https://localhost:8080/"
        }
      },
      "outputs": [
        {
          "output_type": "stream",
          "name": "stdout",
          "text": [
            "Hello to you too!\n"
          ]
        }
      ],
      "source": [
        "print('Hello to you too!')\n",
        "# Go ahead and click on this cell to edit!"
      ]
    },
    {
      "cell_type": "code",
      "execution_count": null,
      "metadata": {
        "id": "NVnw0qDpN64V"
      },
      "outputs": [],
      "source": [
        "index = 0"
      ]
    },
    {
      "cell_type": "markdown",
      "metadata": {
        "id": "4rsu8pRSN64V"
      },
      "source": [
        "What numbers do you see next to the cells?  You should see [1] then [2] then [3] if you executed them in order.  Now go back to the first cell and Shift + Return again.  Because that was the most recent command executed, it should show [4] now. \n",
        "\n",
        "That's one thing to be careful of when you are manually executing commands in a notebook - you can execute them out of order!  Go to the command cell below, and execute it several times to see what happens.  "
      ]
    },
    {
      "cell_type": "code",
      "execution_count": null,
      "metadata": {
        "id": "R4KFgMgoN64V",
        "outputId": "3ecc2c1f-02ae-49a6-a55d-91555b43477b",
        "colab": {
          "base_uri": "https://localhost:8080/"
        }
      },
      "outputs": [
        {
          "output_type": "stream",
          "name": "stdout",
          "text": [
            "Index squared is 4\n"
          ]
        }
      ],
      "source": [
        "index = index + 2\n",
        "print('Index squared is', index * index)"
      ]
    },
    {
      "cell_type": "code",
      "source": [
        "index2 = 1"
      ],
      "metadata": {
        "id": "V_8fa62CaR3T"
      },
      "execution_count": null,
      "outputs": []
    },
    {
      "cell_type": "markdown",
      "metadata": {
        "id": "edhZa8y5N64W"
      },
      "source": [
        "As you might imagine, errors can arise if cells are executed out of order, especially if you are editing and debugging on the fly! If you restart your kernel or runtime (depending on how you are accessing this file) it removes the variables and returns the notebook to its original state.  Go to the \"Runtime\" menu above (or Kernel if you're in JupyterLab) and choose \"Restart runtime.\"  Now try running a code cell with a variable again.  What happened? "
      ]
    },
    {
      "cell_type": "markdown",
      "metadata": {
        "id": "324aOWYdN64W"
      },
      "source": [
        "## <font color='red'> Python Editors </font>"
      ]
    },
    {
      "cell_type": "markdown",
      "metadata": {
        "id": "Wnq18yroN64W"
      },
      "source": [
        "There are a variety of options to edit python code.  Python notebooks (.ipynb) and python source code (.py) can be edited as text files (usually), but most people prefer to have an editor like the one in Google Colab that allows you to execute the code and markup properties. (Think of Microsoft Word raw code vs. how we usually see it.)"
      ]
    },
    {
      "cell_type": "markdown",
      "metadata": {
        "id": "sSeYjjufN64X"
      },
      "source": [
        "Most people will use a multi-purpose editor like an IDE (Integrated Development Environment). An IDE can help you write, test, debug, upload, and share code.  There are many IDE's available, most of them have a free version.  It can be tough to decide which is best for you, but fortunately they all excel at compatibility.  Here are some good options: https://medium.com/towards-data-science/6-best-python-ides-and-text-editors-for-data-science-applications-6986c4522e61\n"
      ]
    },
    {
      "cell_type": "markdown",
      "metadata": {
        "id": "xeFGTmHfN64X"
      },
      "source": [
        "## <font color='red'> Sharing Code and Collaborating </font>"
      ]
    },
    {
      "cell_type": "markdown",
      "metadata": {
        "id": "nhmuzNm2N64X"
      },
      "source": [
        "As stated earlier, if you are accessing this in Google Colab, edits to the original file cannot be saved unless you have edit permission. If you want to save your edits, you need to choose an option in the \"File\" menu above.  \n",
        "\n",
        "Once you've saved your file, you may want to share it with others. There are many advantages to sharing code:\n",
        "- It saves time - when one person figures out something, others don't have to.\n",
        "- Work is straightforward to validate.  All the steps from initial data acquisition to final production of statistics and graphics can be shared in an easily reproducible form. \n",
        "- You own code can benefit. People who use your code can find ways to improve it, and if there is an error it is much more likely to be found."
      ]
    },
    {
      "cell_type": "markdown",
      "metadata": {
        "id": "vPIHLhHaN64X"
      },
      "source": [
        "The most common way people share code is through Github. \n",
        "\n",
        "\"With over 73 million registered users, GitHub and its underlying version control system Git, are the de facto platform for collaboration on computer code. GitHub has become an indispensable tool for software developers because, through version control, users can track changes to multiple files and folders over time. Thus, users have an “audit trail” on the files they choose to store on their GitHub repositories which simultaneously less ad hoc than passing files back and forth yet able to scale up as projects take on more files or collaborators.\"\n",
        "\n",
        "-- from \"Not just for programmers: A friendly guide on the versatility/benefits of GitHub for\n",
        "accelerating collaborative research in Ecology and Evolution\"  Gomes et al. 2021, in preparation"
      ]
    },
    {
      "cell_type": "markdown",
      "metadata": {
        "id": "BBnCXS5tN64Y"
      },
      "source": [
        "If you would like to learn more about Git and version control, we can teach it at an upcoming seminar!  You can request it in the survey link below, or you can get started here:  https://colab.research.google.com/github/astg606/py_materials/blob/master/git_tutorial/basic_git_tutorial.ipynb"
      ]
    },
    {
      "cell_type": "markdown",
      "metadata": {
        "id": "cQ3GPBYxN64Y"
      },
      "source": [
        "## <font color='red'> Python Packages</font>\n",
        "\n",
        "*   List item\n",
        "*   List item\n",
        "\n"
      ]
    },
    {
      "cell_type": "markdown",
      "metadata": {
        "id": "goUc16XNN64Y"
      },
      "source": [
        "Finally, one of the most important things that makes python valuable is the extensive array of packages available. For example, [NumPy](https://numpy.org) is a scientific computing package, and is one of the most popular python packages.  NumPy has many core features of numerical analysis, such as array manipulation and mathematical operations optimized for numerical data. NumPy will be featured in our next tutorial, but if you'd like to get started now this is an excellent place to start: https://numpy.org/learn/   \n",
        "\n",
        "Some IDEs come with standard packages, but soon you will find that you'll want to use something from a package that is not installed.  Most use [Anaconda](https://www.anaconda.com/) as their software distribution manager. You can install new packages and ensure your current packages are updated.  \n",
        "\n",
        "There are a lot of options for installing a software distribution manager.  You can start here:  https://docs.anaconda.com/anaconda/install/\n",
        "\n",
        "There are some specifics depending on your operating system: \n",
        "- [Installing Anaconda on Windows](https://medium.com/@GalarnykMichael/install-python-anaconda-on-windows-2020-f8e188f9a63d)\n",
        "- [Installing Anaconda on MacOS](https://problemsolvingwithpython.com/01-Orientation/01.04-Installing-Anaconda-on-MacOS/)\n",
        "- [Installing Anaconda on Linux](https://problemsolvingwithpython.com/01-Orientation/01.05-Installing-Anaconda-on-Linux/)"
      ]
    },
    {
      "cell_type": "markdown",
      "metadata": {
        "id": "ZpzO_HZYN64Y"
      },
      "source": [
        "## <font color='red'> Exercises </font>"
      ]
    },
    {
      "cell_type": "code",
      "source": [
        ""
      ],
      "metadata": {
        "id": "lwSYwiThMNzC"
      },
      "execution_count": null,
      "outputs": []
    },
    {
      "cell_type": "markdown",
      "metadata": {
        "id": "b3RNjmjzN64Y"
      },
      "source": [
        "### Here are some practice exercises you can complete:\n",
        "\n",
        "* Create a new text cell below that contains markup of your name and institution\n",
        "* Create a new code cell that contains the command to print your name and then print the name of your institution\n",
        "* Download the file as a python notebook to your computer\n",
        "\n",
        "Additionally, if you don't already have an account on https://github.com/ you can create one.  "
      ]
    },
    {
      "cell_type": "markdown",
      "metadata": {
        "id": "xh1ycmeCN64Y"
      },
      "source": [
        "## <font color='red'> Resources </font>\n"
      ]
    },
    {
      "cell_type": "markdown",
      "metadata": {
        "id": "KyH2AKG_N64Z"
      },
      "source": [
        "### Books and Texts \n",
        "Two excellent beginner books (both are available online under public license but you can support the developers by purchasing the books): \n",
        "- \"Problem Solving with Python\" by Peter D. Kazarinoff https://problemsolvingwithpython.com/\n",
        "- \"The Python Data Science Handbook\" by Jake VanderPlas https://jakevdp.github.io/PythonDataScienceHandbook/ "
      ]
    },
    {
      "cell_type": "markdown",
      "metadata": {
        "id": "0i3sfyRMYmG6",
        "tags": []
      },
      "source": [
        "### Online Articles \n",
        "- \"Towards Data Science\" has many articles for beginners to advanced levels on coding and development:  https://medium.com/towards-data-science/\n",
        "- \"KD Nuggets\" was started by a space scientist turned data scientist (Kirk Borne). A great way to keep up on what's happening in data science:  https://www.kdnuggets.com/ "
      ]
    },
    {
      "cell_type": "code",
      "execution_count": null,
      "metadata": {
        "id": "S9KyILWZN64a"
      },
      "outputs": [],
      "source": [
        ""
      ]
    }
  ],
  "metadata": {
    "celltoolbar": "Slideshow",
    "colab": {
      "name": "WVU_Hackweek_Python_intro.ipynb",
      "provenance": []
    },
    "kernelspec": {
      "display_name": "Python 3",
      "language": "python",
      "name": "python3"
    },
    "language_info": {
      "codemirror_mode": {
        "name": "ipython",
        "version": 3
      },
      "file_extension": ".py",
      "mimetype": "text/x-python",
      "name": "python",
      "nbconvert_exporter": "python",
      "pygments_lexer": "ipython3",
      "version": "3.8.8"
    }
  },
  "nbformat": 4,
  "nbformat_minor": 0
}