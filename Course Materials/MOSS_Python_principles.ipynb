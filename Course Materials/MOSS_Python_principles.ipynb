{
 "cells": [
  {
   "cell_type": "markdown",
   "metadata": {
    "id": "vNZr3TFfYmGs"
   },
   "source": [
    "<font color=\"white\">.</font> | <font color=\"white\">.</font> | <font color=\"white\">.</font>\n",
    "-- | -- | --\n",
    "![CfHA](https://raw.githubusercontent.com/HelioAnalytics/MOSS_python/master/images/cfha_logo.png) | <h1><font size=\"+3\">MOSS Python Tutorial Series</font></h1> | ![NASA](https://raw.githubusercontent.com/HelioAnalytics/MOSS_python/master/images/nccs_logo.png)\n",
    "\n",
    "---\n",
    "\n",
    "<center><h1>\n",
    "    <font color=\"red\">Basic Python Principles</font>  \n",
    "</h1></center>"
   ]
  },
  {
   "cell_type": "markdown",
   "metadata": {},
   "source": [
    "Welcome to [Magnetosphere Online Seminar Series](https://msolss.github.io/MagSeminars/) Python Tutorials !  \n",
    "\n",
    "Note: This tutorial is designed to be run through Google Colab.  The repository version of this file is at https://github.com/HelioAnalytics/MOSS_python/blob/master/Course%20Materials/MOSS_Python_principles.ipynb\n",
    "\n",
    "The tutorial series site is https://github.com/HelioAnalytics/MOSS_python\n",
    "\n",
    "---"
   ]
  },
  {
   "cell_type": "markdown",
   "metadata": {
    "slideshow": {
     "slide_type": "slide"
    }
   },
   "source": [
    "## <font color='red'> Review and Preview</font>"
   ]
  },
  {
   "cell_type": "markdown",
   "metadata": {},
   "source": [
    "Remember from the previous lesson that this is Jupyter notebook (commonly with extension .iypnb), and \n",
    "there are different types of cells in a Jupyter notebook.  This is a \"text\" or \"markdown\" cell, which facilitates text \n",
    "display with web page formatting.  There are also \"code\" cells, which contain a series of commands to be executed.  These are not executed automatically, you either go to the cell and hit \"run\" above, or a shortcut is hitting \n",
    "Shift + Enter.  "
   ]
  },
  {
   "cell_type": "code",
   "execution_count": 1,
   "metadata": {},
   "outputs": [],
   "source": [
    "# Hi!  I'm a code cell.  To the left you should see In[ ]:  with nothing inside the square brackets when you start. \n",
    "# If the cell is executed, you'll see a number in the brackets, telling you the order that the cell was \n",
    "# executed.  Click the arrow to the left, (this is assuming you're accessing this in Google Colab, if you're \n",
    "# not then there may be a different way to run a single cell. In general, hitting Shift + Enter \n",
    "# while the cell is highlighted will execute the commands in the cell too. "
   ]
  },
  {
   "cell_type": "code",
   "execution_count": 2,
   "metadata": {},
   "outputs": [
    {
     "data": {
      "text/plain": [
       "4"
      ]
     },
     "execution_count": 2,
     "metadata": {},
     "output_type": "execute_result"
    }
   ],
   "source": [
    "# The cell above didn't have any output. Outputs also have square brackets and an order of execution. \n",
    "# Try running this one a couple of times and see the numbers the square brackets increase:\n",
    "\n",
    "2*2"
   ]
  },
  {
   "cell_type": "markdown",
   "metadata": {},
   "source": [
    "Also remember from the previous lesson that if you want to save your edits in the notebook on Google Colab, you'll have to download this or save a copy. The edits you make to this notebook on Google Colab will not be saved to the\n",
    "original file.  "
   ]
  },
  {
   "cell_type": "markdown",
   "metadata": {
    "slideshow": {
     "slide_type": "subslide"
    }
   },
   "source": [
    "<b> Learning Python </b>\n",
    "\n",
    "As with most programming languages, learning Python involves many elements:\n",
    "- basic syntax and i/o\n",
    "- data types and variables\n",
    "- functions and mathematical operations\n",
    "- loops and conditionals\n",
    "- display of data \n",
    "- extensions, packages and libraries"
   ]
  },
  {
   "cell_type": "markdown",
   "metadata": {},
   "source": [
    "It would be difficult to cover all of these items in a single lecture. This tutorial will familiarize you with syntax and data types, and prepare you for coming tutorials on data manipulation, display/graphics, machine learning, and heliophysics packages."
   ]
  },
  {
   "cell_type": "markdown",
   "metadata": {},
   "source": [
    "## <font color='red'> Simple variables</font>"
   ]
  },
  {
   "cell_type": "code",
   "execution_count": 3,
   "metadata": {},
   "outputs": [
    {
     "name": "stdout",
     "output_type": "stream",
     "text": [
      "a, b, and c are  1.0 2 344444str\n",
      "Now a, b, and c are  1.0 2 3.1\n"
     ]
    }
   ],
   "source": [
    "# This is a comment within in a 'code cell'  \n",
    "# Anything following the '#' is ignored by the interpreter. \n",
    "# Comments are included to make code more readable and easier to follow, especially by someone who \n",
    "# didn't write the code. \n",
    "\n",
    "# Python, as opposed to other languages, has dynamic types. \n",
    "# For instance, in C you need to declare variable types that in general cannot be mixed. \n",
    "#\n",
    "# int variable_1 = 1;\n",
    "# float variable_2 = 38.44; \n",
    "\n",
    "# In Python, we can do something simpler like: \n",
    "a = 1.  #This is a float\n",
    "b = 2   #This is an integer, note b=2L is a long integer\n",
    "c = \"344444str\" #This is a string\n",
    "\n",
    "print('a, b, and c are ',a,b,c)\n",
    "\n",
    "# and then do this \n",
    "c = 3.1 \n",
    "print('Now a, b, and c are ',a,b,c)\n",
    "\n",
    "# and then this\n",
    "c = \"string\"\n",
    "\n",
    "#in C this would cause an error!"
   ]
  },
  {
   "cell_type": "markdown",
   "metadata": {},
   "source": [
    "We're not saying that Python doesn't have its potential pitfalls. There are things that seem straightforward\n",
    "in other languages that can be difficult to handle in Python.  However, the data type declarations couldn't be easier! "
   ]
  },
  {
   "cell_type": "markdown",
   "metadata": {},
   "source": [
    "## <font color='darkblue'> Exercise 1:  Create and manipulate different variable types</font>"
   ]
  },
  {
   "cell_type": "code",
   "execution_count": 4,
   "metadata": {},
   "outputs": [
    {
     "data": {
      "text/plain": [
       "int"
      ]
     },
     "execution_count": 4,
     "metadata": {},
     "output_type": "execute_result"
    }
   ],
   "source": [
    "a = 7\n",
    "# What type of variable is a?\n",
    "\n",
    "type(a)   \n",
    "\n",
    "# See the output below this box.\n",
    "# (Notice how you didn't have to tell it to print!  If it was b=type(a), however, it would\n",
    "# not have printed anything.)"
   ]
  },
  {
   "cell_type": "code",
   "execution_count": 5,
   "metadata": {},
   "outputs": [],
   "source": [
    "# Try defining a variable called \"a\" to be an integer equal to 7. Check by entering type(a) to\n",
    "# be sure it's an integer. You can type (print(a, type(a)) to see both.\n",
    "\n",
    "# Then create a string called \"b\" consisting of the character \"7\". Check by entering type(b) to\n",
    "# be sure you've got a string.  \n",
    "\n",
    "# When you've got a and b defined properly, print(a*b) and see what happens.  Did it make sense?"
   ]
  },
  {
   "cell_type": "code",
   "execution_count": 10,
   "metadata": {},
   "outputs": [
    {
     "name": "stdout",
     "output_type": "stream",
     "text": [
      "7 times a is  49\n"
     ]
    }
   ],
   "source": [
    "# Edit the lines below and remove the pound character before the lines below so you can execute your commands. \n",
    "\n",
    "# a = integer equal to 7\n",
    "# b = a string containing the character 7 \n",
    "# print('a is ',a,'and b is ',b)\n",
    "# print('7 times a is ',7*a)\n",
    "# print('7 times b is ',7*b)\n",
    "# print('a times b is ',a*b)"
   ]
  },
  {
   "cell_type": "code",
   "execution_count": 7,
   "metadata": {},
   "outputs": [],
   "source": [
    "# Now do it again, only with c defined as floating point of value 7 instead of an integer. What happened?\n",
    "# c = floating point of value 7\n",
    "# b = same as above\n",
    "# print(c*b)"
   ]
  },
  {
   "cell_type": "code",
   "execution_count": 8,
   "metadata": {},
   "outputs": [],
   "source": [
    "# Now instead of a string with the character 7, let's spell it out!  Try the following:\n",
    "\n",
    "# a = integer equal to 7\n",
    "# b = string containing the character 7\n",
    "# c = floating point of value 7\n",
    "# d = string with the word 'seven'\n",
    "# print(a*d)\n",
    "\n",
    "# You can also try adding, subtracting, and dividing the different variables.  \n",
    "# Did anything unexpected or surprising happen?  Please say so in the chat!\n",
    "a = 7\n",
    "b = '7'\n",
    "c = 7.\n",
    "d = 'seven'"
   ]
  },
  {
   "cell_type": "markdown",
   "metadata": {
    "id": "FOlu3dX2YmG2"
   },
   "source": [
    "## <font color='red'> More variable types</font>"
   ]
  },
  {
   "cell_type": "markdown",
   "metadata": {
    "id": "k9QDfbZXlEEH"
   },
   "source": [
    "***If the previous exercise seemed frustrating, don't get discouraged!*** Think of it like learning to conjugate verbs in a foreign language. So many tenses!  So many ways to just express the verb \"to be!\" At first it may be \n",
    "difficult to keep track of all of the different tenses, and you have to keep looking them up.  Then one day\n",
    "you're using the proper verb forms without giving it a second thought!"
   ]
  },
  {
   "cell_type": "markdown",
   "metadata": {
    "id": "IlNsvf5SqAut"
   },
   "source": [
    "Next to dynamic typing, one of the powers of python are a number of built-in data structures (lists, dictionaries, tuples and sets) that together with their built-in **methods** make for a very flexible scripting language.  Here is a quick summary how you would initialize them in python:\n",
    "\n",
    "| data type |   assignment example  |   len(a)   |\n",
    "| --------- | --------------------- | ---------- |\n",
    "| list        | a = [1,2,3] |  3  |\n",
    "| tuple      | a = (1,2,3)|  3  |\n",
    "| dictionary  |   a = {'1':1 ,'2':2 , '3':3}|  3  |\n",
    "| set        |  a = {1,2,3,2,1}|  3 |"
   ]
  },
  {
   "cell_type": "markdown",
   "metadata": {},
   "source": [
    "We're going to quickly run through some of these so you can be ready for the advanced data structures that make\n",
    "Heliophysics data analysis easy!\n"
   ]
  },
  {
   "cell_type": "markdown",
   "metadata": {},
   "source": [
    "### <font color='blue'> Python Lists </font>\n",
    "Lists are a sequenced data type; different elements are referenced by an index with the initial index starting at 0. \n",
    " \n",
    "Lists are similar to arrays in other languages; however different elements within a list can be a different data type, e.g., a mix of integers, floats or strings.\n",
    "\n",
    "---"
   ]
  },
  {
   "cell_type": "code",
   "execution_count": 33,
   "metadata": {},
   "outputs": [
    {
     "name": "stdout",
     "output_type": "stream",
     "text": [
      "length of a: 5\n",
      "[300, 2, 3, 4, 5, 300, 2, 3, 4, 5]\n"
     ]
    }
   ],
   "source": [
    "#Create a few lists\n",
    "\n",
    "a = [1,2,3,4,5]\n",
    "print(\"length of a:\",len(a))\n",
    "\n",
    "# If you want to reassign a value, just reference it\n",
    "a[0] = 300\n",
    "\n",
    "# Let's say we want to double the values of the list.  What happens when we do this?  \n",
    "a = 2*a\n",
    "# print(a)"
   ]
  },
  {
   "cell_type": "code",
   "execution_count": null,
   "metadata": {},
   "outputs": [],
   "source": [
    "# a zero-length list is ok too\n",
    "a = []\n",
    "print(\"length of a:\", len(a))\n",
    "\n",
    "# but if you need a lot more, typing becomes tedious, python has a shortcut\n",
    "a = list(range(10,100,5))\n",
    "print(a)\n",
    "\n",
    "# notice something odd with the last number?"
   ]
  },
  {
   "cell_type": "markdown",
   "metadata": {},
   "source": [
    "### <font color='blue'> Python Tuples </font>\n",
    "Tuples are also a sequenced data type; similar to lists, elements are referenced by an index with the initial index starting at 0. However, tuples are immutable objects, meaning that once they're defined, you cannot change a value without redefining the whole tuple.\n",
    "\n",
    "---"
   ]
  },
  {
   "cell_type": "code",
   "execution_count": 30,
   "metadata": {},
   "outputs": [
    {
     "name": "stdout",
     "output_type": "stream",
     "text": [
      "5\n",
      "(1, 2, 3, 4, 5, 1, 2, 3, 4, 5)\n"
     ]
    }
   ],
   "source": [
    "b=(1,2,3,4,5)\n",
    "print(b[0])  # indexing is similar to lists\n",
    "b[0]=2  # but you cannot reassign a value. "
   ]
  },
  {
   "cell_type": "markdown",
   "metadata": {},
   "source": [
    "### <font color='blue'> Indexing and Slicing </font>\n",
    "\n",
    "Indexing allows us to access elements of a list or tuple. In Python indices always start at 0 and go to n-1, where n is the total number of elements or length of a list (```len(a)```).\n",
    "\n",
    "In Python you can also address the last elements in a list, array, etc. by using negative indexes:"
   ]
  },
  {
   "cell_type": "code",
   "execution_count": 34,
   "metadata": {},
   "outputs": [
    {
     "name": "stdout",
     "output_type": "stream",
     "text": [
      "the first element of a is  300\n",
      "the third element of a is  3\n",
      "the last element of a is  5\n",
      "the first two elements of a are  [300, 2]\n",
      "the last two elements of a are  [4, 5]\n"
     ]
    }
   ],
   "source": [
    "# Remember that the index starts at zero, so the third element of this list has index 2.  As a shortcut, you can \n",
    "# index from the end of the list with a -1, -2, etc. \n",
    "print(\"the first element of a is \",a[0])\n",
    "print(\"the third element of a is \",a[2])\n",
    "print(\"the last element of a is \",a[-1])\n",
    "print(\"the first two elements of a are \",a[0:2])  # Notice a[0] and a[1] are listed but not a[2]!\n",
    "print(\"the last two elements of a are \",a[-2:])  # If nothing is after the colon it goes to the end of the list "
   ]
  },
  {
   "cell_type": "code",
   "execution_count": 25,
   "metadata": {},
   "outputs": [
    {
     "name": "stdout",
     "output_type": "stream",
     "text": [
      "[25, 35, 45, 55, 65, 75]\n",
      "[25, 30, 35, 40, 45, 50, 55, 60, 65, 70, 75, 80]\n",
      "[10, 15, 20, 25, 30, 35, 40, 45, 50, 55, 60, 65, 70, 75, 80, 85, 90, 95, 100]\n"
     ]
    }
   ],
   "source": [
    "# slicing and copying\n",
    "b=a[3:15:2]\n",
    "c=a[3:15]\n",
    "\n",
    "print(b)\n",
    "print(c)\n",
    "print(a)"
   ]
  },
  {
   "cell_type": "code",
   "execution_count": 36,
   "metadata": {},
   "outputs": [
    {
     "name": "stdout",
     "output_type": "stream",
     "text": [
      "[10, 15, 20, 25, 30, 35, 40, 45, 50, 55, 60, 65, 70, 75, 80, 85, 90, 95, 100]\n",
      "Last entry in a: 100\n",
      "Second-last entry in the variable a: 95\n",
      "\n",
      "\n",
      "Last entry in a: g\n",
      "Second-last entry in a: n\n"
     ]
    },
    {
     "ename": "TypeError",
     "evalue": "'str' object does not support item assignment",
     "output_type": "error",
     "traceback": [
      "\u001b[0;31m---------------------------------------------------------------------------\u001b[0m",
      "\u001b[0;31mTypeError\u001b[0m                                 Traceback (most recent call last)",
      "\u001b[0;32m<ipython-input-36-e87dc46dc913>\u001b[0m in \u001b[0;36m<module>\u001b[0;34m\u001b[0m\n\u001b[1;32m     11\u001b[0m \u001b[0mprint\u001b[0m\u001b[0;34m(\u001b[0m\u001b[0;34m\"Last entry in a: {0:s}\"\u001b[0m\u001b[0;34m.\u001b[0m\u001b[0mformat\u001b[0m\u001b[0;34m(\u001b[0m\u001b[0mc\u001b[0m\u001b[0;34m[\u001b[0m\u001b[0;34m-\u001b[0m\u001b[0;36m1\u001b[0m\u001b[0;34m]\u001b[0m\u001b[0;34m)\u001b[0m\u001b[0;34m)\u001b[0m\u001b[0;34m\u001b[0m\u001b[0;34m\u001b[0m\u001b[0m\n\u001b[1;32m     12\u001b[0m \u001b[0mprint\u001b[0m\u001b[0;34m(\u001b[0m\u001b[0;34m\"Second-last entry in a: {0:s}\"\u001b[0m\u001b[0;34m.\u001b[0m\u001b[0mformat\u001b[0m\u001b[0;34m(\u001b[0m\u001b[0mc\u001b[0m\u001b[0;34m[\u001b[0m\u001b[0;34m-\u001b[0m\u001b[0;36m2\u001b[0m\u001b[0;34m]\u001b[0m\u001b[0;34m)\u001b[0m\u001b[0;34m)\u001b[0m\u001b[0;34m\u001b[0m\u001b[0;34m\u001b[0m\u001b[0m\n\u001b[0;32m---> 13\u001b[0;31m \u001b[0mc\u001b[0m\u001b[0;34m[\u001b[0m\u001b[0;36m0\u001b[0m\u001b[0;34m]\u001b[0m\u001b[0;34m=\u001b[0m\u001b[0;34m'd'\u001b[0m\u001b[0;34m\u001b[0m\u001b[0;34m\u001b[0m\u001b[0m\n\u001b[0m",
      "\u001b[0;31mTypeError\u001b[0m: 'str' object does not support item assignment"
     ]
    }
   ],
   "source": [
    "a = list(range(10,102,5))\n",
    "print(a)\n",
    "\n",
    "print(\"Last entry in a: {0:d}\".format(a[-1]))\n",
    "print(\"Second-last entry in the variable a: {0:d}\".format(a[-2]))\n",
    "print(\"\\n\")\n",
    "\n",
    "#This works for strings, too:\n",
    "c = \"This is a long string\"\n",
    "\n",
    "print(\"Last entry in a: {0:s}\".format(c[-1]))\n",
    "print(\"Second-last entry in a: {0:s}\".format(c[-2]))"
   ]
  },
  {
   "cell_type": "markdown",
   "metadata": {},
   "source": [
    "A few more examples on indexing and slicing can be found at [Real Python - Indexing and Slicing](https://realpython.com/lessons/indexing-and-slicing/)\n",
    "\n"
   ]
  },
  {
   "cell_type": "markdown",
   "metadata": {},
   "source": [
    "### <font color='red'> Notes on Python Data Types </font>\n",
    "\n",
    "Python is an object-oriented programming. An object is an entity that contains data along with associated metadata and/or functionality. In Python everything is an object, which means everything has some metadata called **attributes** and associated functionality called **methods**. These attributes and methods are accessed via the dot syntax.\n",
    "\n",
    "There are various ways to find/query an objects **attributes** and **methods**\n",
    "\n",
    "* If you have access to the internet the tried and tested method is **Google**, **stackoverflow**, and online manuals/documentation, e.g., the [Python Docs](https://docs.python.org/2/tutorial/datastructures.html#more-on-lists)\n",
    "    * Python is a well documented language and you can always quickly find out about any object/functionality with a simple Google search\n",
    "* The inline **```dir()```*** in Python will list the **methods**\n",
    "```\n",
    "dir(a)\n",
    "```\n",
    "not very informative, but it does remind you of the names of **attributes** and **methods**\n",
    "* Python introspection package\n",
    "  ```\n",
    "  import inspect\n",
    "  inspect.getmembers(a)\n",
    "  ```\n",
    "* Use the ipython or notebook **TAB completion**:  For our object ```a``` typing ```a.<TAB>``` should show a list of possible completions, move your cursor to the desired one\n",
    "  \n",
    "* Help will also provide a short description of an object/method, ```help(a.append)```"
   ]
  },
  {
   "cell_type": "code",
   "execution_count": 14,
   "metadata": {},
   "outputs": [
    {
     "name": "stdout",
     "output_type": "stream",
     "text": [
      "Help on list object:\n",
      "\n",
      "class list(object)\n",
      " |  list(iterable=(), /)\n",
      " |  \n",
      " |  Built-in mutable sequence.\n",
      " |  \n",
      " |  If no argument is given, the constructor creates a new empty list.\n",
      " |  The argument must be an iterable if specified.\n",
      " |  \n",
      " |  Methods defined here:\n",
      " |  \n",
      " |  __add__(self, value, /)\n",
      " |      Return self+value.\n",
      " |  \n",
      " |  __contains__(self, key, /)\n",
      " |      Return key in self.\n",
      " |  \n",
      " |  __delitem__(self, key, /)\n",
      " |      Delete self[key].\n",
      " |  \n",
      " |  __eq__(self, value, /)\n",
      " |      Return self==value.\n",
      " |  \n",
      " |  __ge__(self, value, /)\n",
      " |      Return self>=value.\n",
      " |  \n",
      " |  __getattribute__(self, name, /)\n",
      " |      Return getattr(self, name).\n",
      " |  \n",
      " |  __getitem__(...)\n",
      " |      x.__getitem__(y) <==> x[y]\n",
      " |  \n",
      " |  __gt__(self, value, /)\n",
      " |      Return self>value.\n",
      " |  \n",
      " |  __iadd__(self, value, /)\n",
      " |      Implement self+=value.\n",
      " |  \n",
      " |  __imul__(self, value, /)\n",
      " |      Implement self*=value.\n",
      " |  \n",
      " |  __init__(self, /, *args, **kwargs)\n",
      " |      Initialize self.  See help(type(self)) for accurate signature.\n",
      " |  \n",
      " |  __iter__(self, /)\n",
      " |      Implement iter(self).\n",
      " |  \n",
      " |  __le__(self, value, /)\n",
      " |      Return self<=value.\n",
      " |  \n",
      " |  __len__(self, /)\n",
      " |      Return len(self).\n",
      " |  \n",
      " |  __lt__(self, value, /)\n",
      " |      Return self<value.\n",
      " |  \n",
      " |  __mul__(self, value, /)\n",
      " |      Return self*value.\n",
      " |  \n",
      " |  __ne__(self, value, /)\n",
      " |      Return self!=value.\n",
      " |  \n",
      " |  __repr__(self, /)\n",
      " |      Return repr(self).\n",
      " |  \n",
      " |  __reversed__(self, /)\n",
      " |      Return a reverse iterator over the list.\n",
      " |  \n",
      " |  __rmul__(self, value, /)\n",
      " |      Return value*self.\n",
      " |  \n",
      " |  __setitem__(self, key, value, /)\n",
      " |      Set self[key] to value.\n",
      " |  \n",
      " |  __sizeof__(self, /)\n",
      " |      Return the size of the list in memory, in bytes.\n",
      " |  \n",
      " |  append(self, object, /)\n",
      " |      Append object to the end of the list.\n",
      " |  \n",
      " |  clear(self, /)\n",
      " |      Remove all items from list.\n",
      " |  \n",
      " |  copy(self, /)\n",
      " |      Return a shallow copy of the list.\n",
      " |  \n",
      " |  count(self, value, /)\n",
      " |      Return number of occurrences of value.\n",
      " |  \n",
      " |  extend(self, iterable, /)\n",
      " |      Extend list by appending elements from the iterable.\n",
      " |  \n",
      " |  index(self, value, start=0, stop=9223372036854775807, /)\n",
      " |      Return first index of value.\n",
      " |      \n",
      " |      Raises ValueError if the value is not present.\n",
      " |  \n",
      " |  insert(self, index, object, /)\n",
      " |      Insert object before index.\n",
      " |  \n",
      " |  pop(self, index=-1, /)\n",
      " |      Remove and return item at index (default last).\n",
      " |      \n",
      " |      Raises IndexError if list is empty or index is out of range.\n",
      " |  \n",
      " |  remove(self, value, /)\n",
      " |      Remove first occurrence of value.\n",
      " |      \n",
      " |      Raises ValueError if the value is not present.\n",
      " |  \n",
      " |  reverse(self, /)\n",
      " |      Reverse *IN PLACE*.\n",
      " |  \n",
      " |  sort(self, /, *, key=None, reverse=False)\n",
      " |      Stable sort *IN PLACE*.\n",
      " |  \n",
      " |  ----------------------------------------------------------------------\n",
      " |  Static methods defined here:\n",
      " |  \n",
      " |  __new__(*args, **kwargs) from builtins.type\n",
      " |      Create and return a new object.  See help(type) for accurate signature.\n",
      " |  \n",
      " |  ----------------------------------------------------------------------\n",
      " |  Data and other attributes defined here:\n",
      " |  \n",
      " |  __hash__ = None\n",
      "\n"
     ]
    }
   ],
   "source": [
    "help(a)"
   ]
  },
  {
   "cell_type": "code",
   "execution_count": 21,
   "metadata": {},
   "outputs": [
    {
     "name": "stdout",
     "output_type": "stream",
     "text": [
      "[10, 15, 20, 25, 30, 35, 40, 45, 50, 55, 60, 65, 70, 75, 80, 85, 90, 95]\n",
      "[10, 15, 20, 25, 30, 35, 40, 45, 50, 55, 60, 65, 70, 75, 80, 85, 90, 95, 'sean']\n",
      "Help on built-in function append:\n",
      "\n",
      "append(object, /) method of builtins.list instance\n",
      "    Append object to the end of the list.\n",
      "\n",
      "['sean', 95, 90, 85, 80, 75, 70, 65, 60, 55, 50, 45, 40, 35, 30, 25, 20, 15, 10]\n"
     ]
    }
   ],
   "source": [
    "# methods\n",
    "print(a)\n",
    "a.append(\"sean\")\n",
    "print(a)\n",
    "\n",
    "help(a.append)\n",
    "\n",
    "a.reverse()\n",
    "print(a)"
   ]
  },
  {
   "cell_type": "markdown",
   "metadata": {},
   "source": [
    "### <font color='blue'> Other Data Structures </font>\n",
    "\n",
    "It's difficult to go through all the data structures and functionality in a short tutorial, the links below provide additional information and the Exercise will help to show the basics of the the other data structures. \n",
    "\n",
    "- [Problem Solving With Python - Data Types and Variables](https://problemsolvingwithpython.com/04-Data-Types-and-Variables/04.00-Introduction/)\n",
    "- [A Whirlwind Tour of Python - Built in Data Structures](https://jakevdp.github.io/WhirlwindTourOfPython/06-built-in-data-structures.html)\n",
    "- [ASTY Python Courses - Python Data Structures](https://colab.research.google.com/github/astg606/py_materials/blob/master/data_types/python_data_structures.ipynb)"
   ]
  },
  {
   "cell_type": "markdown",
   "metadata": {},
   "source": [
    "## <font color='red'> Basic manipulation syntax </font>"
   ]
  },
  {
   "cell_type": "markdown",
   "metadata": {
    "id": "_JepxiuOYmG3"
   },
   "source": [
    "## <font color='darkblue'> A word of caution - Referencing vs Assignment </font>\n",
    "\n",
    "When an assignment is made from variable to another Python **does not** create a copy of that variable. Rather, Python stores a reference to the variable which is information about where the original varialbe is stored.\n",
    "\n",
    "With scalar variables or immutable objects this typically does not do anything surprising. However, with mutable objects, such as lists, the outcome can be unexpected.\n",
    "\n",
    "An object whose internal state can be changed is called a mutable object, while an object whose internal state cannot be changed is called an immutable object.\n",
    "\n",
    "Mutable, internal state **can be changed**: lists, sets, dictionaries\n",
    "Immutable, internal state **cannot be changed**: numbers (float, int), strings, tuples"
   ]
  },
  {
   "cell_type": "code",
   "execution_count": 48,
   "metadata": {},
   "outputs": [
    {
     "name": "stdout",
     "output_type": "stream",
     "text": [
      "0\n",
      "2\n",
      "---\n",
      "a's unique identfier: 4341700928\n",
      "b's unique identfier: 4341700992\n"
     ]
    }
   ],
   "source": [
    "# A scalar variable or immutable object\n",
    "a = 0\n",
    "b = a\n",
    "b = 2\n",
    "\n",
    "print(a)\n",
    "print(b)\n",
    "\n",
    "print(\"---\")\n",
    "print(\"a's unique identfier:\", id(a))   # Note the use of single quote and double quotes in formatting\n",
    "print(\"b's unique identfier: {0}\".format(id(b)))  \n",
    "# using the format method makes it easier when you're using multiple or complex variables"
   ]
  },
  {
   "cell_type": "code",
   "execution_count": 47,
   "metadata": {},
   "outputs": [
    {
     "name": "stdout",
     "output_type": "stream",
     "text": [
      "simple assignment\n",
      "a= [1, 2, 3]\n",
      "b= 2\n",
      "a= [0, 2, 3]\n",
      "b= [0, 2, 3]\n",
      "---\n",
      "a= [5, 2, 3]\n",
      "b= [5, 2, 3]\n",
      "---\n",
      "a= [5, 2, 0]\n",
      "b= [5, 2, 0]\n",
      "---\n",
      "a's unique identfier: 140367186863360\n",
      "b's unique identfier: 140367186863360\n"
     ]
    }
   ],
   "source": [
    "# A mutable object\n",
    "# Assignment\n",
    "\n",
    "a = [1,2,3]\n",
    "print(\"simple assignment\")\n",
    "print(\"a=\",a)\n",
    "print(\"b=\",b)\n",
    "\n",
    "b = a\n",
    "b[0] = 0\n",
    "print(\"a=\",a) # Notice we did not explicitly change a\n",
    "print(\"b=\",b)\n",
    "print(\"---\")\n",
    "\n",
    "#change an element in 'a'\n",
    "a[0] = 5\n",
    "print(\"a=\",a)\n",
    "print(\"b=\",b)\n",
    "print(\"---\")\n",
    "#change an element in 'b'\n",
    "b[2] = 0\n",
    "print(\"a=\",a)\n",
    "print(\"b=\",b)\n",
    "\n",
    "print(\"---\")\n",
    "print(\"a's unique identfier: {0}\".format(id(a)))  \n",
    "print(\"b's unique identfier: {0}\".format(id(b)))  \n"
   ]
  },
  {
   "cell_type": "markdown",
   "metadata": {},
   "source": [
    "More on mutable and immutable objects. \n",
    "\n",
    "- [freeCodeCamp - Mutable vs Immutable Objects in Python – A Visual and Hands-On Guide](freecodecamp.org/news/mutable-vs-immutable-objects-python/)\n",
    "- [Python Tutorial - Python Mutable and Immutable](https://www.pythontutorial.net/advanced-python/python-mutable-and-immutable/)"
   ]
  },
  {
   "cell_type": "markdown",
   "metadata": {
    "id": "4jCf7DBv2xHz"
   },
   "source": [
    "## <font color='darkblue'> Operators </font>\n",
    "\n",
    "Operators are what allow us to manipulate or perform an action/comparison between operands. In Python there are a number of operators but those most important to us are\n",
    "- Arithmetic Operators which perform basic math.\n",
    "- Comparison Operators which compare values\n",
    "- Assignment Operators which assign new values.\n",
    "\n",
    "Here is a description of all [Python Operators](https://www.tutorialspoint.com/python/python_basic_operators.htm)\n",
    "\n",
    "### Arithmetic\n",
    "\n",
    "| operator |   Description  |  \n",
    "| --------- | --------------------- |\n",
    "| ``` + ``` | Addition |\n",
    "| ``` - ``` | Subtraction|  \n",
    "| ``` * ``` | Multiplication| \n",
    "| ``` / ``` | Division |  \n",
    "| ``` % ``` | Modulus - Returns the remainder|\n",
    "|``` ** ``` | Exponent |\n",
    "|``` // ``` | Floor Division - Removes the decimal and returns the integer qoutient. If negative rounds away from zero |\n",
    "\n",
    "\n",
    "### Comparison\n",
    "\n",
    "| operator |   description  | \n",
    "| --------- | --------------------- |\n",
    "| ```==``` | Equal to  |\n",
    "| ```!=``` | Not equal to  |\n",
    "| ```<>``` | If the two operands are not equal then true  |\n",
    "| ```>```  | Greater than |\n",
    "| ```<```  | Less than |\n",
    "| ```>=``` | Greather than or equal to  |\n",
    "| ```<=``` | Less then or equal to  |\n",
    "\n",
    "### Assignment\n",
    "| operator |   description  | example |\n",
    "| --------- | --------------------- |---------|\n",
    "| ```=```   | Assigns value from right side to left side | ```c = a``` assigns a to c |\n",
    "| ```+=```  | Adds right operand to left operand and assigns to left operand | ```c += a -> c = c+a``` |\n",
    "| ```-=```  | Subtracts right from left and assigns to left | ```c -= a -> c = c-a``` |\n",
    "| ```*=```  | Multiplies right with left and assigns to left | ```c *= a -> c = c*a``` |\n",
    "| ```/=```  | Divides left by right and assigns to left | ```c /= a -> c = c/a``` |\n",
    "| ```%=```  | Takes modulus of left and right assigns to left | ```c %=a -> c = c%a```|\n",
    "| ```**=``` | Takes exponential and assigns to left | ```c **=a -> c = c**a```|\n",
    "| ```//=``` | Takes floor and assigns to left | ```c //=a -> c = c//a```|\n"
   ]
  },
  {
   "cell_type": "markdown",
   "metadata": {},
   "source": [
    "## <font color='red'> Homework! </font>"
   ]
  },
  {
   "cell_type": "markdown",
   "metadata": {},
   "source": [
    "Yes, homework!\n",
    "\n",
    "**First,** \n",
    "\n",
    "**(A)** Slice only the odd-indexed values in the array below. \n",
    "For example, in the array [2, 12, 20, -99, -57], the odd-indexed values are 12 and -99.\n",
    "```\n",
    "a = list(range(10,102,5))\n",
    "```\n",
    "\n",
    "**(B)** provide every 5th value starting with the third value in the array\n",
    "```\n",
    "a = list(range(0,100,2)\n",
    "```\n",
    "\n",
    "**(C)** Slice ```a``` from the 5th element to the 3rd-last element.\n",
    "\n",
    "**Second,** [fill out the survey](https://docs.google.com/forms/d/e/1FAIpQLSfDJvmWPiJDmN2yWXMXuxgxVE9Z7M-CI7S-iUy2oPnEUyHxRg/viewform?usp=sf_link) to let us know what you'd like to see in future tutorials.\n"
   ]
  },
  {
   "cell_type": "markdown",
   "metadata": {},
   "source": [
    "## <font color='red'> Announcements </font>\n"
   ]
  },
  {
   "cell_type": "markdown",
   "metadata": {},
   "source": [
    "## 28 March 2022: \n",
    "\n",
    "\n",
    "### Python in Heliophysics Summer School  \n",
    "30 May 2022 – Friday, 3 June 2022 Madrid, Spain and Virtual\n",
    "This event is free and open to all graduate students, early career scientists, and established scientists looking to transition to Python in the Heliophysics and Space Weather disciplines.\n",
    "\n",
    "### Special issue: Python in Space Physics\n",
    "Frontiers in Astronomy and Space Sciences and Frontiers in Physics are currently soliciting manuscripts for a special issue on Python within the space physics community.  If you have a package you'd like to publish or an established package whose scientific impact you'd like to review, please consider submitting your work.  The science disciplines encompass geospace (Earth's atmosphere, ionosphere, and magnetosphere), planetary sciences, solar physics, and other solar system science disciplines.  Abstracts are due by 31 May 2022, and manuscripts are due by 29 July 2022.  You can learn more about the special issue here:  https://www.frontiersin.org/research-topics/33555/snakes-on-a-spaceship-an-overview-of-python-in-space-physics\n",
    "Fromm Angeline Burrell, John Coxon, Leslie Lamarche, Michael Aye, Sophie Murray\n",
    "\n"
   ]
  },
  {
   "cell_type": "markdown",
   "metadata": {},
   "source": [
    "### Next MOSS Seminar:  \n",
    "2022 April 4 at 12pm will be our third Early Career Seminar. Ramiz Qudsi will be presenting \"A comparative study of reconnection X-line predictions on dayside magnetopause of Earth\" and Man Hua will be discussing \"Radiation Belt Electron Acceleration Driven by Very-Low-Frequency Transmitter Waves in Near-Earth Space\".   https://msolss.github.io/MagSeminars/abstracts.html"
   ]
  },
  {
   "cell_type": "code",
   "execution_count": null,
   "metadata": {},
   "outputs": [],
   "source": []
  }
 ],
 "metadata": {
  "celltoolbar": "Slideshow",
  "colab": {
   "name": "MOSS_Python_intro.ipynb",
   "provenance": [],
   "toc_visible": true
  },
  "kernelspec": {
   "display_name": "Python 3",
   "language": "python",
   "name": "python3"
  },
  "language_info": {
   "codemirror_mode": {
    "name": "ipython",
    "version": 3
   },
   "file_extension": ".py",
   "mimetype": "text/x-python",
   "name": "python",
   "nbconvert_exporter": "python",
   "pygments_lexer": "ipython3",
   "version": "3.8.8"
  }
 },
 "nbformat": 4,
 "nbformat_minor": 4
}
