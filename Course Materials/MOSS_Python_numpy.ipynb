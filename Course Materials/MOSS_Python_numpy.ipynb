{
 "cells": [
  {
   "cell_type": "markdown",
   "id": "535c2f78",
   "metadata": {},
   "source": [
    "<CENTER>\n",
    "<H1>\n",
    "    (INSPIRED BY)\n",
    "NASA Goddard Space Flight Center <BR>\n",
    "    Python User Group <BR>\n",
    "Python Boot Camp <br>\n",
    "</H1>\n",
    "</CENTER>"
   ]
  },
  {
   "cell_type": "markdown",
   "id": "0390d9aa",
   "metadata": {},
   "source": [
    "# NumPy (and some leftover matplotlib...)"
   ]
  },
  {
   "cell_type": "markdown",
   "id": "3c051fa2",
   "metadata": {},
   "source": [
    "## Reference Documents"
   ]
  },
  {
   "cell_type": "markdown",
   "id": "0bacb418",
   "metadata": {},
   "source": [
    "<OL>\n",
    "<LI> <A HREF=\"https://numpy.org/\">NumPy</A>\n",
    "<LI> <A HREF=\"https://numpy.org/doc/stable/\">NumPy documentation</A>\n",
    "<LI> <A HREF=\"https://numpy.org/doc/stable/user/absolute_beginners.html\">NumPy for beginners</A>\n",
    "<LI> <A HREF=\"https://numpy.org/doc/stable/user/numpy-for-matlab-users.html#\">NumPy for MATLAB users</A>\n",
    "</OL>"
   ]
  },
  {
   "cell_type": "markdown",
   "id": "f1e053ca",
   "metadata": {},
   "source": [
    "### What is Numpy?"
   ]
  },
  {
   "cell_type": "markdown",
   "id": "a2e11902",
   "metadata": {},
   "source": [
    "<UL>\n",
    "<LI> Efficient array computing in Python.\n",
    "<LI> Allows the creation of arrays.\n",
    "<LI> Allows efficient indexing/slicing of arrays\n",
    "<LI> Provides mathematical functions that operate on an entire array.\n",
    "<LI> The critical thing to know is that Python <B> for </B> loops are very slow!\n",
    "     One should try to use array-operations as much as possible.\n",
    "</UL>"
   ]
  },
  {
   "cell_type": "code",
   "execution_count": null,
   "id": "2ba703d0-e1a5-4f53-92f4-49f28345eb98",
   "metadata": {},
   "outputs": [],
   "source": [
    "import numpy as np"
   ]
  },
  {
   "cell_type": "markdown",
   "id": "9a8d9b98-2e87-403c-a542-28c1438f5fc6",
   "metadata": {},
   "source": [
    "#### How slow?"
   ]
  },
  {
   "cell_type": "code",
   "execution_count": null,
   "id": "1ec135a7-fccf-4faf-b150-bccb7e4ad889",
   "metadata": {},
   "outputs": [],
   "source": [
    "n = 100\n",
    "x = []\n",
    "for i in range(n):\n",
    "    x.append([0]*n)\n",
    "for i in range(n):\n",
    "    for j in range(n):\n",
    "        x[i][j] = i*n + j\n",
    "# print(x)"
   ]
  },
  {
   "cell_type": "code",
   "execution_count": null,
   "id": "0a41df77-7eb6-487d-b3d4-a4f14e59e40b",
   "metadata": {},
   "outputs": [],
   "source": [
    "# Matrix multiplication\n",
    "def matmult(x1, x2):\n",
    "    nrow = len(x1)\n",
    "    ncol = len(x1[0])\n",
    "    prod = []\n",
    "    for i in range(nrow):\n",
    "        prod.append([0]*ncol)\n",
    "    for row in range(nrow):\n",
    "        for col in range(ncol):\n",
    "            for k in range(nrow):\n",
    "                prod[row][col] += x1[row][k]*x[k][col]\n",
    "    return(prod)"
   ]
  },
  {
   "cell_type": "code",
   "execution_count": null,
   "id": "de4edaa3-9dac-4991-8c15-021f314dd054",
   "metadata": {},
   "outputs": [],
   "source": [
    "# matmult(x,x)"
   ]
  },
  {
   "cell_type": "code",
   "execution_count": null,
   "id": "4f2e5d30-e167-4e06-ab84-02ce8b2af8bb",
   "metadata": {},
   "outputs": [],
   "source": [
    "# Time the code.\n",
    "%timeit matmult(x, x)"
   ]
  },
  {
   "cell_type": "code",
   "execution_count": null,
   "id": "92e8c9b2-2ca1-4234-8887-be5f983c86a8",
   "metadata": {},
   "outputs": [],
   "source": [
    "# Now use NumPy\n",
    "X = np.arange(n*n).reshape(n, n)\n",
    "print(X)"
   ]
  },
  {
   "cell_type": "code",
   "execution_count": null,
   "id": "96bb6d80-95a7-4430-bf9b-dc2871220a27",
   "metadata": {},
   "outputs": [],
   "source": [
    "def matmult_np(x1, x2):\n",
    "    return x1.dot(x2)"
   ]
  },
  {
   "cell_type": "code",
   "execution_count": null,
   "id": "bf0a1551-39dc-446d-873b-71ed735a8741",
   "metadata": {},
   "outputs": [],
   "source": [
    "%timeit matmult_np(X, X)"
   ]
  },
  {
   "cell_type": "markdown",
   "id": "e2a716aa",
   "metadata": {},
   "source": [
    "#### Making Numpy Arrays"
   ]
  },
  {
   "cell_type": "markdown",
   "id": "26b4a4c9",
   "metadata": {},
   "source": [
    "First we want to import the appropriate modules into our name space (note this is done automatically with the \"--pylab\" flag."
   ]
  },
  {
   "cell_type": "code",
   "execution_count": null,
   "id": "bf804a03",
   "metadata": {
    "collapsed": false,
    "jupyter": {
     "outputs_hidden": false
    }
   },
   "outputs": [],
   "source": [
    "import numpy as np"
   ]
  },
  {
   "cell_type": "markdown",
   "id": "83d8ddb1-f9fb-4e1a-a48f-0ed4c1954eb6",
   "metadata": {},
   "source": [
    "The primary building block of the numpy module is the class \"ndarray\". A ndarray object represents a multidimensional, homogeneous array of fixed-sized items. An associated date-type object describes the format of each element in the array. An ndarray object is (almost) never instantiated directly, but instead using a method that returns an instance of the class."
   ]
  },
  {
   "cell_type": "code",
   "execution_count": null,
   "id": "632b081d",
   "metadata": {
    "collapsed": false,
    "jupyter": {
     "outputs_hidden": false
    }
   },
   "outputs": [],
   "source": [
    "a = np.array([1, 2, 3])\n",
    "print(a)"
   ]
  },
  {
   "cell_type": "markdown",
   "id": "c22e6230-5f66-45ec-a4e5-67c6c23add88",
   "metadata": {},
   "source": [
    "The \"ones\" and \"zeros\" methods return an array object of the requested shape and type."
   ]
  },
  {
   "cell_type": "code",
   "execution_count": null,
   "id": "2786711c",
   "metadata": {
    "collapsed": false,
    "jupyter": {
     "outputs_hidden": false
    }
   },
   "outputs": [],
   "source": [
    "b = np.ones((3,2))\n",
    "print(b)\n",
    "print(b.shape)"
   ]
  },
  {
   "cell_type": "code",
   "execution_count": null,
   "id": "27f7c713",
   "metadata": {
    "collapsed": false,
    "jupyter": {
     "outputs_hidden": false
    }
   },
   "outputs": [],
   "source": [
    "c = np.zeros((1,3), int)\n",
    "print(c)\n",
    "print(type(c))\n",
    "print(c.dtype)"
   ]
  },
  {
   "cell_type": "code",
   "execution_count": null,
   "id": "6e3874d2",
   "metadata": {
    "collapsed": false,
    "jupyter": {
     "outputs_hidden": false
    }
   },
   "outputs": [],
   "source": [
    "d = np.zeros(3, complex)\n",
    "print(d)\n",
    "print(d.dtype)\n",
    "id = np.eye(5)\n",
    "print(id)"
   ]
  },
  {
   "cell_type": "markdown",
   "id": "7e22c76c-9de5-445f-9812-27d6afcc878f",
   "metadata": {},
   "source": [
    "linspace(a, b, n) generates n uniformly spaced coordinates, starting with a and ending with b"
   ]
  },
  {
   "cell_type": "code",
   "execution_count": null,
   "id": "82e471cc",
   "metadata": {
    "collapsed": false,
    "jupyter": {
     "outputs_hidden": false
    }
   },
   "outputs": [],
   "source": [
    "x = np.linspace(-5, 5, 11)\n",
    "print(x)"
   ]
  },
  {
   "cell_type": "code",
   "execution_count": null,
   "id": "dbb98506",
   "metadata": {
    "collapsed": false,
    "jupyter": {
     "outputs_hidden": false
    }
   },
   "outputs": [],
   "source": [
    "x = np.arange(-5, 5, 1, float)   # upper limit 5 is not included!!\n",
    "print(x)"
   ]
  },
  {
   "cell_type": "markdown",
   "id": "c9f060ea",
   "metadata": {},
   "source": [
    "#### Changing Array Dimension"
   ]
  },
  {
   "cell_type": "code",
   "execution_count": null,
   "id": "79970298",
   "metadata": {
    "collapsed": false,
    "jupyter": {
     "outputs_hidden": false
    }
   },
   "outputs": [],
   "source": [
    "a = np.array([0, 1.2, 4, -9.1, 5, 8])\n",
    "print(a.shape)\n",
    "a.shape = (2,3) # turn a into a 2x3 matrix\n",
    "print(a.size)\n",
    "a.shape = (a.size,) # turn a into a vector of length 6 again\n",
    "print(a.shape)\n",
    "a = a.reshape(2,3) # same effect as setting a.shape\n",
    "print(a.shape)"
   ]
  },
  {
   "cell_type": "markdown",
   "id": "b9e758cb",
   "metadata": {},
   "source": [
    "#### Array Initialization from a Python Function"
   ]
  },
  {
   "cell_type": "code",
   "execution_count": null,
   "id": "20c88621",
   "metadata": {
    "collapsed": false,
    "jupyter": {
     "outputs_hidden": false
    }
   },
   "outputs": [],
   "source": [
    "def myfunc(i, j):\n",
    "    return (i+1)*(j+4-i)\n",
    "\n",
    "# make 3x6 array where a[i,j] = myfunc(i,j):\n",
    "a = np.fromfunction(myfunc, (3,6))\n",
    "print(a)"
   ]
  },
  {
   "cell_type": "markdown",
   "id": "24b80143",
   "metadata": {},
   "source": [
    "#### Array Indexing"
   ]
  },
  {
   "cell_type": "code",
   "execution_count": null,
   "id": "065b2b08",
   "metadata": {
    "collapsed": false,
    "jupyter": {
     "outputs_hidden": false
    }
   },
   "outputs": [],
   "source": [
    "a = np.linspace(-1, 1, 6)\n",
    "a[2:4] = -1        # set a[2] and a[3] equal to -1\n",
    "a[-1]  = a[0]      # set last element equal to first one\n",
    "a[:]   = 0         # set all elements of a equal to 0\n",
    "a.fill(0)          # set all elements of a equal to 0\n",
    "\n",
    "i = 1\n",
    "j = 2\n",
    "k = 2\n",
    "a.shape = (2,3)    # turn a into a 2x3 matrix\n",
    "print(a[0,1])       # print element (0,1)\n",
    "a[i,j] = 10        # assignment to element (i,j)\n",
    "a[i][j] = 10       # equivalent syntax (slower)\n",
    "print(a[:,k])       # print column with index k\n",
    "print(a[1,:])       # print second row\n",
    "a[:,:] = 0         # set all elements of a equal to 0"
   ]
  },
  {
   "cell_type": "code",
   "execution_count": null,
   "id": "b7bbb29e",
   "metadata": {
    "collapsed": false,
    "jupyter": {
     "outputs_hidden": false
    }
   },
   "outputs": [],
   "source": [
    "a = np.linspace(0, 29, 30)\n",
    "a.shape = (5,6)\n",
    "print(a)"
   ]
  },
  {
   "cell_type": "code",
   "execution_count": null,
   "id": "48539566",
   "metadata": {
    "collapsed": false,
    "jupyter": {
     "outputs_hidden": false
    }
   },
   "outputs": [],
   "source": [
    "print(a[1:3,:-1:2])  # a[i,j] for i=1,2 and j=0,2,4"
   ]
  },
  {
   "cell_type": "code",
   "execution_count": null,
   "id": "0a6d6889",
   "metadata": {
    "collapsed": false,
    "jupyter": {
     "outputs_hidden": false
    }
   },
   "outputs": [],
   "source": [
    "print(a[::3,2:-1:2])   # a[i,j] for i=0,3 and j=2,4"
   ]
  },
  {
   "cell_type": "markdown",
   "id": "e72c9ad4",
   "metadata": {},
   "source": [
    "#### Array Slicing"
   ]
  },
  {
   "cell_type": "code",
   "execution_count": null,
   "id": "0833c370",
   "metadata": {
    "collapsed": false,
    "jupyter": {
     "outputs_hidden": false
    }
   },
   "outputs": [],
   "source": [
    "from IPython.core.display import Image \n",
    "Image(filename='/Users/winteel1/ACE.png') "
   ]
  },
  {
   "cell_type": "markdown",
   "id": "ed499c91",
   "metadata": {},
   "source": [
    "Slices Refer the Array Data\n",
    "<UL>\n",
    "<LI> With a as list, a[:] makes a copy of the data\t\n",
    "<LI> With a as array, a[:] is a reference to the data\n",
    "</UL>"
   ]
  },
  {
   "cell_type": "code",
   "execution_count": null,
   "id": "8dfa0e63",
   "metadata": {
    "collapsed": false,
    "jupyter": {
     "outputs_hidden": false
    }
   },
   "outputs": [],
   "source": [
    "print(a)\n",
    "b = a[1,:]      # extract 2nd column of a\n",
    "print([1,1])\n",
    "b[1] = 2\n",
    "print(a[1,1])"
   ]
  },
  {
   "cell_type": "code",
   "execution_count": null,
   "id": "82530108",
   "metadata": {
    "collapsed": false,
    "jupyter": {
     "outputs_hidden": false
    }
   },
   "outputs": [],
   "source": [
    "# Take a copy to avoid referencing via slices:\n",
    "b = a[1,:].copy()\n",
    "print(a[1,1])\n",
    "b[1] = 7777     # b and a are two different arrays now\n",
    "print(a[1,1])\n"
   ]
  },
  {
   "cell_type": "markdown",
   "id": "16362038",
   "metadata": {},
   "source": [
    "#### Array Computations"
   ]
  },
  {
   "cell_type": "code",
   "execution_count": null,
   "id": "4b327b38",
   "metadata": {
    "collapsed": false,
    "jupyter": {
     "outputs_hidden": false
    }
   },
   "outputs": [],
   "source": [
    "b = 3*a - 1    # a is array, b becomes array"
   ]
  },
  {
   "cell_type": "markdown",
   "id": "d7b1877a",
   "metadata": {},
   "source": [
    "The above operation generates a temporary array:\n",
    "<OL>\n",
    "<LI> tb = 3*a\n",
    "<LI> b = tb - 1\n",
    "</OL>\n",
    "As far as possible, we want to avoid the creation\n",
    "  of temporary arrays to limit the memory usage and\n",
    "  to decrease the computational time associated with\n",
    "  with array computations."
   ]
  },
  {
   "cell_type": "markdown",
   "id": "ada5f667",
   "metadata": {},
   "source": [
    "#### In-Place Array Arithmetic"
   ]
  },
  {
   "cell_type": "code",
   "execution_count": null,
   "id": "a62481a7",
   "metadata": {
    "collapsed": false,
    "jupyter": {
     "outputs_hidden": false
    }
   },
   "outputs": [],
   "source": [
    "b = a\n",
    "b *= 3  # or multiply(b, 3, b)\n",
    "b -= 1  # or subtract(b, 1, b)"
   ]
  },
  {
   "cell_type": "markdown",
   "id": "a713443f-6c5e-45d2-b99b-503b393f4a23",
   "metadata": {},
   "source": [
    "In-place operations:\n",
    "    \n",
    "   a *= 3.0     # multiply a's elements by 3\n",
    "   a -= 1.0     # subtract 1 from each element\n",
    "   a /= 3.0     # divide each element by 3\n",
    "   a += 1.0     # add 1 to each element\n",
    "   a **= 2.0    # square all elements"
   ]
  },
  {
   "cell_type": "markdown",
   "id": "cc85a5d9",
   "metadata": {},
   "source": [
    "#### Math Functions and Array Arguments"
   ]
  },
  {
   "cell_type": "code",
   "execution_count": null,
   "id": "e19345f0-c663-445a-b11d-fadb247e8bde",
   "metadata": {},
   "outputs": [],
   "source": [
    "# let b be an array\n",
    "np.sin(b)    "
   ]
  },
  {
   "cell_type": "code",
   "execution_count": null,
   "id": "a59c247a-b868-4110-b3ad-36507e637e22",
   "metadata": {},
   "outputs": [],
   "source": [
    "np.arcsin(b) "
   ]
  },
  {
   "cell_type": "code",
   "execution_count": null,
   "id": "6b3154de-7970-4b62-80fc-244ad38ce8de",
   "metadata": {},
   "outputs": [],
   "source": [
    "np.sinh(b)"
   ]
  },
  {
   "cell_type": "code",
   "execution_count": null,
   "id": "7a96d10d-d94c-47b4-b165-dc28ea2c1b9e",
   "metadata": {},
   "outputs": [],
   "source": [
    "b**2.5  # power function"
   ]
  },
  {
   "cell_type": "code",
   "execution_count": null,
   "id": "45b39291-aa05-4c97-82a8-ba16f0d1e28f",
   "metadata": {},
   "outputs": [],
   "source": [
    "np.log(b)"
   ]
  },
  {
   "cell_type": "code",
   "execution_count": null,
   "id": "ed0cd617-3a88-4879-8b1b-59036bafe5ab",
   "metadata": {},
   "outputs": [],
   "source": [
    "np.exp(b)"
   ]
  },
  {
   "cell_type": "code",
   "execution_count": null,
   "id": "2be961d8-26de-4674-9510-d3972102fc17",
   "metadata": {},
   "outputs": [],
   "source": [
    "np.sqrt(b)"
   ]
  },
  {
   "cell_type": "code",
   "execution_count": null,
   "id": "661677e2-e2df-4de2-877d-58dff6be5f01",
   "metadata": {},
   "outputs": [],
   "source": [
    "b.clip(min=-0.5, max=0.5)  \t# clip elements"
   ]
  },
  {
   "cell_type": "code",
   "execution_count": null,
   "id": "02d9e8fb-12a6-4014-89a4-dc03f59ae780",
   "metadata": {},
   "outputs": [],
   "source": [
    "np.mean(b)"
   ]
  },
  {
   "cell_type": "code",
   "execution_count": null,
   "id": "246209e2-1b1c-49d6-84c7-3cd866907298",
   "metadata": {},
   "outputs": [],
   "source": [
    "b.var();  np.var(b)       \t# variance"
   ]
  },
  {
   "cell_type": "code",
   "execution_count": null,
   "id": "052e23b2-f082-4aaf-8102-fdaa68d602dd",
   "metadata": {},
   "outputs": [],
   "source": [
    "b.std();  np.std(b)        \t# standard deviation"
   ]
  },
  {
   "cell_type": "code",
   "execution_count": null,
   "id": "153d7430-365f-415e-8f0e-0a2c8539523c",
   "metadata": {},
   "outputs": [],
   "source": [
    "np.median(a)"
   ]
  },
  {
   "cell_type": "code",
   "execution_count": null,
   "id": "336c9ad9-cfca-4d59-a98d-4436bad35260",
   "metadata": {},
   "outputs": [],
   "source": [
    "np.trapz(a)              \t# Trapezoidal integration"
   ]
  },
  {
   "cell_type": "code",
   "execution_count": null,
   "id": "a76d4167-4ff7-409c-9607-7d8615dedc1e",
   "metadata": {},
   "outputs": [],
   "source": [
    "np.diff(a)               \t# finite differences (da/dx)"
   ]
  },
  {
   "cell_type": "markdown",
   "id": "1ce16ae2",
   "metadata": {},
   "source": [
    "#### NumPy Matrices"
   ]
  },
  {
   "cell_type": "code",
   "execution_count": null,
   "id": "6a6880db",
   "metadata": {
    "collapsed": false,
    "jupyter": {
     "outputs_hidden": false
    }
   },
   "outputs": [],
   "source": [
    "a = np.array([[1,2],[3,4]])\n",
    "print(\"a = \", a)\n",
    "m = np.mat(a)\n",
    "print(\"m = \", m)\n",
    "print(\"a[0] = \", a[0])\n",
    "print(\"m[0] = \", m[0])\n",
    "print(\"a*a  = \", a*a)\n",
    "print(\"m*m  = \", m*m)\n",
    "print(\"dot  = \", np.dot(a, a))"
   ]
  },
  {
   "cell_type": "markdown",
   "id": "392ca1c0",
   "metadata": {},
   "source": [
    "#### Universal Functions and Loops"
   ]
  },
  {
   "cell_type": "markdown",
   "id": "c4b5af1a-940e-446e-9fa8-f101b7a76603",
   "metadata": {},
   "source": [
    "Universal functions run much faster than for loops, which should be avoided whenever possible"
   ]
  },
  {
   "cell_type": "code",
   "execution_count": null,
   "id": "848db66c",
   "metadata": {
    "collapsed": false,
    "jupyter": {
     "outputs_hidden": false
    }
   },
   "outputs": [],
   "source": [
    "def mult1(a,b):\n",
    "    return a * b\n",
    "\n",
    "def mult2(a,b):\n",
    "    c = np.empty(a.shape)\n",
    "    for i in range(a.shape[0]):\n",
    "        for j in range(a.shape[1]):\n",
    "            c[i,j] = a[i,j] * b[i,j]\n",
    "    return c"
   ]
  },
  {
   "cell_type": "code",
   "execution_count": null,
   "id": "e15bfe1e",
   "metadata": {
    "collapsed": false,
    "jupyter": {
     "outputs_hidden": false
    }
   },
   "outputs": [],
   "source": [
    "a = np.random.random((800,800))\n",
    "b = np.random.random((800,800))"
   ]
  },
  {
   "cell_type": "code",
   "execution_count": null,
   "id": "2bef6940",
   "metadata": {
    "collapsed": false,
    "jupyter": {
     "outputs_hidden": false
    }
   },
   "outputs": [],
   "source": [
    "timeit mult1(a,b)"
   ]
  },
  {
   "cell_type": "code",
   "execution_count": null,
   "id": "a43585e0",
   "metadata": {
    "collapsed": false,
    "jupyter": {
     "outputs_hidden": false
    }
   },
   "outputs": [],
   "source": [
    "timeit mult2(a,b)"
   ]
  },
  {
   "cell_type": "markdown",
   "id": "ec77b11e",
   "metadata": {},
   "source": [
    "## Matplotlib  "
   ]
  },
  {
   "cell_type": "markdown",
   "id": "77ae9add",
   "metadata": {},
   "source": [
    "#### Simple Plot"
   ]
  },
  {
   "cell_type": "code",
   "execution_count": null,
   "id": "6e17b5ba",
   "metadata": {
    "collapsed": false,
    "jupyter": {
     "outputs_hidden": false
    }
   },
   "outputs": [],
   "source": [
    "import matplotlib.pylab as plt\n",
    "\n",
    "x = [2, 3, 5, 7, 11]\t\n",
    "y = [4, 9, 5, 9, 1]\t\n",
    "plt.plot(x, y)"
   ]
  },
  {
   "cell_type": "markdown",
   "id": "bf037461",
   "metadata": {},
   "source": [
    "#### Useful Syntax"
   ]
  },
  {
   "cell_type": "raw",
   "id": "95d083a0",
   "metadata": {},
   "source": [
    "plot(x,y)\n",
    "xlabel('string')         # label the x-axis\n",
    "ylabel('string')         # label the y-axis\n",
    "title('string')          # write the title of the plot\n",
    "grid(true/false)         # adds grid boxes\n",
    "savefig('fileName.type') # type can be png, ps, pdf, etc\n",
    "show()                   # display the graph on the screen\n",
    "xlim(xmin,xmax)          # set/get the xlimits\n",
    "ylim(ymin,ymax)          # set/get the ylimits\n",
    "hold(True/False)         # to overlay figures on the same graph"
   ]
  },
  {
   "cell_type": "markdown",
   "id": "fcd0412a",
   "metadata": {},
   "source": [
    "#### Cosine Plot"
   ]
  },
  {
   "cell_type": "code",
   "execution_count": null,
   "id": "04ba15e3",
   "metadata": {
    "collapsed": false,
    "jupyter": {
     "outputs_hidden": false
    }
   },
   "outputs": [],
   "source": [
    "import math\n",
    "\n",
    "t = np.arange(0.0, 1.0+0.01, 0.01)\n",
    "s = np.cos(2*2*math.pi*t)\n",
    "plt.plot(t, s)\n",
    "\n",
    "plt.xlabel('time (s)')\n",
    "plt.ylabel('voltage (mV)')\n",
    "plt.title('About as simple as it gets, folks')\n",
    "plt.grid(True)"
   ]
  },
  {
   "cell_type": "markdown",
   "id": "66b23135",
   "metadata": {},
   "source": [
    "#### Add Legend"
   ]
  },
  {
   "cell_type": "code",
   "execution_count": null,
   "id": "29fe56f9",
   "metadata": {
    "collapsed": false,
    "jupyter": {
     "outputs_hidden": false
    }
   },
   "outputs": [],
   "source": [
    "x = np.linspace(0, 2*np.pi, 300)\n",
    "y = np.sin(x)\n",
    "y2 = np.sin(x**2)\n",
    "plt.plot(x, y, label=r'$\\sin(x)$')\n",
    "plt.plot(x, y2, label=r'$\\sin(x^2)$')\n",
    "plt.title('Some functions')\n",
    "plt.xlabel('x')\n",
    "plt.ylabel('y')\n",
    "plt.grid()\n",
    "plt.legend(loc=0)"
   ]
  },
  {
   "cell_type": "markdown",
   "id": "951c66a4",
   "metadata": {},
   "source": [
    "#### Multiple Figures on the Same Plot"
   ]
  },
  {
   "cell_type": "code",
   "execution_count": null,
   "id": "7b7cca8e",
   "metadata": {
    "collapsed": false,
    "jupyter": {
     "outputs_hidden": false
    }
   },
   "outputs": [],
   "source": [
    "def f(t):\n",
    "    return np.exp(-t) * np.cos(2*np.pi*t)\n",
    "\n",
    "t1 = np.arange(0.0, 5.0, 0.1)\n",
    "t2 = np.arange(0.0, 5.0, 0.02)\n",
    "\n",
    "plt.figure(1)\n",
    "plt.subplot(211)\n",
    "plt.plot(t1, f(t1), 'bo', t2, f(t2), 'k')\n",
    "\n",
    "plt.subplot(212)\n",
    "plt.plot(t2, np.cos(2*np.pi*t2), 'r--')"
   ]
  },
  {
   "cell_type": "markdown",
   "id": "d34ccd6e",
   "metadata": {},
   "source": [
    "#### Annotating Text"
   ]
  },
  {
   "cell_type": "code",
   "execution_count": null,
   "id": "b54933dd",
   "metadata": {
    "collapsed": false,
    "jupyter": {
     "outputs_hidden": false
    }
   },
   "outputs": [],
   "source": [
    "ax = plt.subplot(111)\n",
    "t = np.arange(0.0, 5.0, 0.01)\n",
    "s = np.cos(2*np.pi*t)\n",
    "line, = plt.plot(t, s, lw=2)\n",
    "\n",
    "plt.annotate('local max', xy=(2, 1), \\\n",
    "        xytext=(3, 1.5), \\\n",
    "        arrowprops=dict(facecolor='black', \\\n",
    "        shrink=0.05), )\n",
    "\n",
    "plt.ylim(-2,2)"
   ]
  },
  {
   "cell_type": "markdown",
   "id": "00bd1344",
   "metadata": {},
   "source": [
    "#### Plot with Fill"
   ]
  },
  {
   "cell_type": "code",
   "execution_count": null,
   "id": "7c6e3ccd",
   "metadata": {
    "collapsed": false,
    "jupyter": {
     "outputs_hidden": false
    }
   },
   "outputs": [],
   "source": [
    "t = np.arange(0.0, 1.01, 0.01)\n",
    "s = np.sin(2*2*np.pi*t)\n",
    "\n",
    "plt.fill(t, s*np.exp(-5*t), 'r')\n",
    "plt.grid(True)"
   ]
  },
  {
   "cell_type": "markdown",
   "id": "5c73c8c7",
   "metadata": {},
   "source": [
    "#### Histogram"
   ]
  },
  {
   "cell_type": "code",
   "execution_count": null,
   "id": "5f59e8a9",
   "metadata": {
    "collapsed": false,
    "jupyter": {
     "outputs_hidden": false
    }
   },
   "outputs": [],
   "source": [
    "mu, sigma = 100, 15\n",
    "x = mu + sigma * np.random.randn(10000)\n",
    "\n",
    "# the histogram of the data\n",
    "n, bins, patches = plt.hist(x, 50, normed=1, \\\n",
    "                       facecolor='g', alpha=0.75)\n",
    "\n",
    "plt.xlabel('Smarts')\n",
    "plt.ylabel('Probability')\n",
    "plt.title('Histogram of IQ')\n",
    "plt.text(60, .025, r'$\\mu=100,\\ \\sigma=\\frac{1}{\\sqrt{15}}$')\n",
    "plt.axis([40, 160, 0, 0.03])\n",
    "plt.grid(True)"
   ]
  },
  {
   "cell_type": "markdown",
   "id": "4ecc13ca",
   "metadata": {},
   "source": [
    "#### Log Plot"
   ]
  },
  {
   "cell_type": "code",
   "execution_count": null,
   "id": "ce3dadcc",
   "metadata": {
    "collapsed": false,
    "jupyter": {
     "outputs_hidden": false
    }
   },
   "outputs": [],
   "source": [
    "plt.subplots_adjust(hspace=0.4)\n",
    "t = np.arange(0.01, 20.0, 0.01)\n",
    "\n",
    "# log y axis\n",
    "plt.subplot(221)\n",
    "plt.semilogy(t, np.exp(-t/5.0))\n",
    "plt.title('semilogy')\n",
    "plt.grid(True)\n",
    "\n",
    "# log x axis\n",
    "plt.subplot(222)\n",
    "plt.semilogx(t, np.sin(2*np.pi*t))\n",
    "plt.title('semilogx')\n",
    "plt.grid(True)\n",
    "\n",
    "# log x and y axis\n",
    "plt.subplot(223)\n",
    "plt.loglog(t, 20*np.exp(-t/10.0), basex=2)\n",
    "plt.grid(True)\n",
    "plt.title('loglog base 4 on x')\n",
    "\n",
    "# with errorbars: clip non-positive values\n",
    "ax = plt.subplot(224)\n",
    "ax.set_xscale(\"log\", nonposx='clip')\n",
    "ax.set_yscale(\"log\", nonposy='clip')\n",
    "\n",
    "x = 10.0**np.linspace(0.0, 2.0, 20)\n",
    "y = x**2.0\n",
    "plt.errorbar(x, y, xerr=0.1*x, yerr=5.0+0.75*y)\n",
    "ax.set_ylim(ymin=0.1)\n",
    "ax.set_title('Errorbars go negative')\n"
   ]
  },
  {
   "cell_type": "markdown",
   "id": "ba6ff314",
   "metadata": {},
   "source": [
    "#### Pie Chart"
   ]
  },
  {
   "cell_type": "code",
   "execution_count": null,
   "id": "e3f1d2d1",
   "metadata": {
    "collapsed": false,
    "jupyter": {
     "outputs_hidden": false
    }
   },
   "outputs": [],
   "source": [
    "# make a square figure and axes\n",
    "fig = plt.figure(1, figsize=(6,6))\n",
    "ax = fig.add_axes([0.1, 0.1, 0.8, 0.8])\n",
    "labels = 'Frogs', 'Hogs', 'Dogs', 'Logs'\n",
    "fracs = [15,30,45, 10]\n",
    "explode=(0, 0.1, 0, 0)\n",
    "ax.pie(fracs, explode=explode, labels=labels, autopct='%1.1f%%', shadow=True)\n",
    "ax.set_title('Raining Hogs and Dogs', bbox={'facecolor':'0.9', 'pad':15})"
   ]
  },
  {
   "cell_type": "markdown",
   "id": "f66038cf",
   "metadata": {},
   "source": [
    "#### Contour Plot and Colorbar"
   ]
  },
  {
   "cell_type": "code",
   "execution_count": null,
   "id": "65d924ad",
   "metadata": {
    "collapsed": false,
    "jupyter": {
     "outputs_hidden": false
    }
   },
   "outputs": [],
   "source": [
    "from pylab import *\n",
    "delta = 0.01\n",
    "x = arange(-3.0, 3.0, delta)\n",
    "y = arange(-3.0, 3.0, delta)\n",
    "X,Y = meshgrid(x, y)\n",
    "Z1 = bivariate_normal(X, Y, 1.0, 1.0, 0.0, 0.0)\n",
    "Z2 = bivariate_normal(X, Y, 1.5, 0.5, 1, 1)\n",
    "Z = Z2 - Z1 # difference of Gaussians\n",
    "\n",
    "cmap = cm.get_cmap('jet', 10)    # 10 discrete colors\n",
    "\n",
    "im = imshow(Z, cmap=cmap, interpolation='bilinear')\n",
    "axis('off')\n",
    "colorbar()\n"
   ]
  },
  {
   "cell_type": "markdown",
   "id": "c29f600b",
   "metadata": {},
   "source": [
    "#### Scatter Plot"
   ]
  },
  {
   "cell_type": "code",
   "execution_count": null,
   "id": "6cfff49b",
   "metadata": {
    "collapsed": false,
    "jupyter": {
     "outputs_hidden": false
    }
   },
   "outputs": [],
   "source": [
    "from numpy import random\n",
    "\n",
    "random.seed(0)\n",
    "mu_1 = random.randn(2)\n",
    "sigma_1 = random.randn()\n",
    "x_1 = (random.randn(1000)*sigma_1)+mu_1[0]\n",
    "y_1 = (random.randn(1000)*sigma_1)+mu_1[1]\n",
    "\n",
    "mu_2 = random.randn(2)\n",
    "sigma_2 = random.randn()\n",
    "x_2 = (random.randn(1000)*sigma_2)+mu_2[0]\n",
    "y_2 = (random.randn(1000)*sigma_2)+mu_2[1]\n",
    "\n",
    "fig = plt.figure()\n",
    "ax = fig.add_subplot(1,1,1)\n",
    "ax.scatter(x_1,y_1,color='r',edgecolor='k',alpha=0.25)\n",
    "ax.scatter(x_2,y_2,color='b',edgecolor='k',alpha=0.25)"
   ]
  },
  {
   "cell_type": "markdown",
   "id": "b8c35334",
   "metadata": {},
   "source": [
    "## Breakout Session: Applications in Earth Science and Space Science"
   ]
  },
  {
   "cell_type": "markdown",
   "id": "bfcdeb41",
   "metadata": {},
   "source": [
    "<OL>\n",
    "<LI> <b> Earth Science </b>\n",
    "     <UL>\n",
    "     <LI> We want to reproduce the Global Land-Ocean Temperature Index plot available at this <A HREF=\"http://data.giss.nasa.gov/gistemp/graphs_v3/\"> GISS website</A>\n",
    "          <OL>\n",
    "          <LI> Obtain the temperature anomaly data from the <A HREF=\"http://data.giss.nasa.gov/gistemp/graphs_v3/Fig.A2.txt\">link</A> and save it in a file. Note that there are missing data.\n",
    "          <LI> Write a function that read the file and populate the three lists <b>years</b>, <b>annualMeanTemp</b> and <b>fiveYearMean</b>. Find ways to take into account the missing values while filling <b>annualMeanTemp</b> and <b>fiveYearMean</b>.\n",
    "          <LI> Convert the three lists into Numpy arrays and create masks to identify the missing data.\n",
    "          <LI> Use Matplotlib to plot the data.\n",
    "          </OL>\n",
    "     </UL>\n",
    "<LI> <b> Animation to Visualize Dynamic Data </b>\n",
    "     <UL>\n",
    "     <LI> We want to continually plot y = sin(&pi; x) where x is a set of random numbers in [-2,3]. The values of x change with time.\n",
    "         <OL>\n",
    "         <LI> Write a function that randomly generates N=200 numbers (uniformly distributed) between -2 and 3, pass the numbers to the Numpy array x, and returns x and y = sin(&pi; x).\n",
    "         <LI> Use the Matplotlib animation module to continually use the above function to plot y = sin(&pi; x).\n",
    "         </OL>\n",
    "     </UL>\n",
    "     \n",
    "</OL>"
   ]
  },
  {
   "cell_type": "code",
   "execution_count": null,
   "id": "bffca25c",
   "metadata": {
    "collapsed": false,
    "jupyter": {
     "outputs_hidden": false
    }
   },
   "outputs": [],
   "source": []
  }
 ],
 "metadata": {
  "kernelspec": {
   "display_name": "Python 3 (ipykernel)",
   "language": "python",
   "name": "python3"
  },
  "language_info": {
   "codemirror_mode": {
    "name": "ipython",
    "version": 3
   },
   "file_extension": ".py",
   "mimetype": "text/x-python",
   "name": "python",
   "nbconvert_exporter": "python",
   "pygments_lexer": "ipython3",
   "version": "3.8.13"
  }
 },
 "nbformat": 4,
 "nbformat_minor": 5
}
