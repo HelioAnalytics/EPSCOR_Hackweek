{
 "cells": [
  {
   "cell_type": "markdown",
   "metadata": {
    "id": "vNZr3TFfYmGs"
   },
   "source": [
    "<font color=\"white\">.</font> | <font color=\"white\">.</font> | <font color=\"white\">.</font>\n",
    "-- | -- | --\n",
    "![CfHA](https://raw.githubusercontent.com/HelioAnalytics/MOSS_python/master/images/cfha_logo.png) | <h1><font size=\"+3\">MOSS Python Tutorial Series</font></h1> | ![NASA](https://raw.githubusercontent.com/HelioAnalytics/MOSS_python/master/images/nccs_logo.png)\n",
    "\n",
    "---\n",
    "\n",
    "<center><h1>\n",
    "    <font color=\"red\">Tutorial Glossary</font>  \n",
    "</h1></center>"
   ]
  },
  {
   "cell_type": "markdown",
   "metadata": {
    "id": "55haFOHkN64M"
   },
   "source": [
    "MOSS: [Magnetosphere Online Seminar Series](https://msolss.github.io/MagSeminars/)  \n",
    "The tutorial series site is https://github.com/HelioAnalytics/MOSS_python\n",
    "\n",
    "\n",
    "\n",
    "## General python \n",
    "\n",
    "[Jupyter](https://jupyter.org/): a web-based interactive development environment for notebooks, code, and data. The name is a portmanteau of three programming languages (Julia, python and R.)\n",
    "\n",
    "Notebook: A Jupyter Notebook is a web application to create and share code.  A Notebook facilitates annotation and graphics as well as in-line execution of code.\n",
    "\n",
    "IDE (Integrated Development Environment): An IDE is a collection of tools that allow a user to develop, modify and debug software. What IDE or editing tool you use is a matter of preference. Some facilitate use of code repositories such as Github, while others do not.  \n",
    "\n",
    "Github (code repository): Code repositories are how developers can share and distribute code. Github is a commonly used repository, which is the online counterpart to Git, which is how a user accesses and manages software locally on their own computer. Github facilitates development of code with many contributors, and allows users of the code to receive updates smoothly (usually).  If you want to use software locally, you can \"clone\" a repository. However, if you want to make modifications to the code but do not want it to affect the original, you can \"fork\" the repository. Forking makes a copy that you can edit.\n",
    "\n",
    "API (Application Programming Interface): An API is an example of a very useful resource used by python developers. APIs are intermediaries that facilitate interaction between two different software applications. Python makes use of APIs to send and receive information or data to remote servers, such as Heliophysics data sites.  \n",
    "\n",
    "\n",
    "## Python packages and libraries\n",
    "\n",
    "All of the packages listed here are open source.  \n",
    "\n",
    "### Commonly used:\n",
    "\n",
    "Numpy:\n",
    "\n",
    "Pandas:\n",
    "\n",
    "Matplotlib: \n",
    "\n",
    "### Other useful popular packages:\n",
    "\n",
    "Scikit-learn:\n",
    "\n",
    "Keras and TensorFlow: \n",
    "\n",
    "Seaborn: \n",
    "\n",
    "## Heliophysics python\n",
    "\n",
    "[PyHC](https://heliopython.org/): Python in Heliophysics Community (PyHC) is a collaborative group dedicated to development of Heliophysics research tools in Python. Their website, heliopython.org, is the best place to look for key python packages developed for Heliophysics. PyHC meets regularly to facilitate the development and integration of important packages, and they provide a variety of tutorials, resources, general discussion, and advice. \n",
    "\n",
    "\n",
    "---"
   ]
  },
  {
   "cell_type": "markdown",
   "metadata": {
    "id": "xh1ycmeCN64Y"
   },
   "source": [
    "## <font color='red'> Resources </font>\n"
   ]
  },
  {
   "cell_type": "markdown",
   "metadata": {
    "id": "KyH2AKG_N64Z"
   },
   "source": [
    "### Books and Texts \n",
    "Two excellent beginner books (both are available online under public license but you can support the developers by purchasing the books): \n",
    "- \"Problem Solving with Python\" by Peter D. Kazarinoff https://problemsolvingwithpython.com/\n",
    "- \"The Python Data Science Handbook\" by Jake VanderPlas https://jakevdp.github.io/PythonDataScienceHandbook/ "
   ]
  },
  {
   "cell_type": "markdown",
   "metadata": {
    "id": "0i3sfyRMYmG6",
    "tags": []
   },
   "source": [
    "### Online Articles \n",
    "- \"Towards Data Science\" has many articles for beginners to advanced levels on coding and development:  https://medium.com/towards-data-science/\n",
    "- \"KD Nuggets\" was started by a space scientist turned data scientist (Kirk Borne). A great way to keep up on what's happening in data science:  https://www.kdnuggets.com/ "
   ]
  },
  {
   "cell_type": "markdown",
   "metadata": {
    "id": "YPDhZshzN64Z"
   },
   "source": [
    "## <font color='red'> Python Learning Resources for Heliophysics </font>"
   ]
  },
  {
   "cell_type": "markdown",
   "metadata": {
    "id": "MNTKV-SIN64Z"
   },
   "source": [
    "- The [Python in Heliophysics Community (PyHC)](https://heliopython.org/) is the best place to start learning python for Heliophysics application. Their example and tutorial gallery is always growing!   https://heliopython.org/gallery/generated/gallery/index.html "
   ]
  },
  {
   "cell_type": "markdown",
   "metadata": {
    "id": "PJ1ur2d9N64Z"
   },
   "source": [
    "- Goddard ASTG Python courses (available to Helio community):  \n",
    "    - Python placement test (if you score >80% you may want to skip the beginner courses):  https://docs.google.com/forms/d/e/1FAIpQLSdXdI4yQI0voiZ8AZFYw5yyrXbiZAU87vHJm574PwP9l8IXdA/viewform\n",
    "    - Beginner Python: https://github.com/astg606/py_courses/tree/master/beginner_python\n",
    "    - Full Collection of Courses: https://github.com/astg606/py_courses/tree/master/virtual_courses\n",
    "\n",
    "\n",
    "- Michael Kirk’s tutorials (general + Sunpy): https://github.com/MSKirk/tutorials\n",
    "\n",
    "- HelioML book https://helioml.org/:  Edited by Monica Bobra and James Mason, a curated collection of interactive Jupyter Python notebooks, that explicitly shows the reader how to use machine learning, statistics, and data mining techniques on various kinds of heliophysics data sets to reproduce published results.\n",
    "\n",
    "*You can mention your favorite resources in the feedback form, and we'll add them to the list!*"
   ]
  },
  {
   "cell_type": "markdown",
   "metadata": {
    "id": "R8Y9AYe7N64a"
   },
   "source": [
    "## <font color='red'> Announcements </font>\n"
   ]
  },
  {
   "cell_type": "markdown",
   "metadata": {
    "id": "wcVgpj_xN64a"
   },
   "source": [
    "28 February 2022: \n",
    "\n",
    "### ML Helio Conference: March 21-25 2022 Boulder, CO and Virtual  \n",
    "https://ml-helio.github.io/\n",
    "Early Bird Registration Deadline TODAY February 28, 2022\n",
    "Poster Abstract Deadline tomorrow March 1, 2022\n",
    "\n",
    "### Python in Heliophysics Summer School  \n",
    "30 May 2022 – Friday, 3 June 2022 Madrid, Spain and Virtual\n",
    "This event is free and open to all graduate students, early career scientists, and established scientists looking to transition to Python in the Heliophysics and Space Weather disciplines.\n",
    "\n",
    "### Special issue: Python in Space Physics\n",
    "Frontiers in Astronomy and Space Sciences and Frontiers in Physics are currently soliciting manuscripts for a special issue on Python within the space physics community.  If you have a package you'd like to publish or an established package whose scientific impact you'd like to review, please consider submitting your work.  The science disciplines encompass geospace (Earth's atmosphere, ionosphere, and magnetosphere), planetary sciences, solar physics, and other solar system science disciplines.  Abstracts are due by 31 May 2022, and manuscripts are due by 29 July 2022.  You can learn more about the special issue here:  https://www.frontiersin.org/research-topics/33555/snakes-on-a-spaceship-an-overview-of-python-in-space-physics\n",
    "Fromm Angeline Burrell, John Coxon, Leslie Lamarche, Michael Aye, Sophie Murray\n",
    "\n"
   ]
  },
  {
   "cell_type": "code",
   "execution_count": null,
   "metadata": {
    "id": "S9KyILWZN64a"
   },
   "outputs": [],
   "source": []
  }
 ],
 "metadata": {
  "celltoolbar": "Slideshow",
  "colab": {
   "name": "MOSS_Python_glossary.ipynb",
   "provenance": []
  },
  "kernelspec": {
   "display_name": "Python 3",
   "language": "python",
   "name": "python3"
  },
  "language_info": {
   "codemirror_mode": {
    "name": "ipython",
    "version": 3
   },
   "file_extension": ".py",
   "mimetype": "text/x-python",
   "name": "python",
   "nbconvert_exporter": "python",
   "pygments_lexer": "ipython3",
   "version": "3.8.8"
  }
 },
 "nbformat": 4,
 "nbformat_minor": 1
}
