{
 "cells": [
  {
   "cell_type": "markdown",
   "metadata": {
    "id": "vNZr3TFfYmGs"
   },
   "source": [
    "<font color=\"white\">.</font> | <font color=\"white\">.</font> | <font color=\"white\">.</font>\n",
    "-- | -- | --\n",
    "![Logo](https://raw.githubusercontent.com/HelioAnalytics/EPSCOR_Hackweek/main/images/NASAEPSCoR.png) | <h1><font size=\"+3\"></font></h1> | ![NASA](https://raw.githubusercontent.com/HelioAnalytics/MOSS_python/master/images/nccs_logo.png)\n",
    "\n",
    "---\n",
    "\n",
    "<center><h1>\n",
    "    <font color=\"red\">Tutorial Glossary</font>  \n",
    "</h1></center>"
   ]
  },
  {
   "cell_type": "markdown",
   "metadata": {
    "id": "55haFOHkN64M"
   },
   "source": [
    "\n",
    "\n",
    "\n",
    "## General python \n",
    "\n",
    "[Jupyter](https://jupyter.org/): a web-based interactive development environment for notebooks, code, and data. The name is a portmanteau of three programming languages (Julia, python and R.)\n",
    "\n",
    "Notebook: A Jupyter Notebook is a web application to create and share code.  A Notebook facilitates annotation and graphics as well as in-line execution of code.\n",
    "\n",
    "IDE (Integrated Development Environment): An IDE is a collection of tools that allow a user to develop, modify and debug software. What IDE or editing tool you use is a matter of preference. Some facilitate use of code repositories such as Github, while others do not.  \n",
    "\n",
    "Github (code repository): Code repositories are how developers can share and distribute code. Github is a commonly used repository, which is the online counterpart to Git, which is how a user accesses and manages software locally on their own computer. Github facilitates development of code with many contributors, and allows users of the code to receive updates smoothly (usually).  If you want to use software locally, you can \"clone\" a repository. However, if you want to make modifications to the code but do not want it to affect the original, you can \"fork\" the repository. Forking makes a copy that you can edit.\n",
    "\n",
    "API (Application Programming Interface): An API is an example of a very useful resource used by python developers. APIs are intermediaries that facilitate interaction between two different software applications. Python makes use of APIs to send and receive information or data to remote servers, such as Heliophysics data sites.  \n",
    "\n",
    "\n",
    "## Python packages and libraries\n",
    "\n",
    "All of the packages listed here are open source.  \n",
    "\n",
    "### Commonly used:\n",
    "\n",
    "Numpy:\n",
    "\n",
    "Pandas:\n",
    "\n",
    "Matplotlib: \n",
    "\n",
    "### Other useful popular packages:\n",
    "\n",
    "Scikit-learn:\n",
    "\n",
    "Keras and TensorFlow: \n",
    "\n",
    "Seaborn: \n",
    "\n",
    "---"
   ]
  },
  {
   "cell_type": "markdown",
   "metadata": {
    "id": "xh1ycmeCN64Y"
   },
   "source": [
    "## <font color='red'> Resources </font>\n"
   ]
  },
  {
   "cell_type": "markdown",
   "metadata": {
    "id": "KyH2AKG_N64Z"
   },
   "source": [
    "### Books and Texts \n",
    "Two excellent beginner books (both are available online under public license but you can support the developers by purchasing the books): \n",
    "- \"Problem Solving with Python\" by Peter D. Kazarinoff https://problemsolvingwithpython.com/\n",
    "- \"The Python Data Science Handbook\" by Jake VanderPlas https://jakevdp.github.io/PythonDataScienceHandbook/ "
   ]
  },
  {
   "cell_type": "markdown",
   "metadata": {
    "id": "0i3sfyRMYmG6",
    "tags": []
   },
   "source": [
    "### Online Articles \n",
    "- \"Towards Data Science\" has many articles for beginners to advanced levels on coding and development:  https://medium.com/towards-data-science/\n",
    "- \"KD Nuggets\" was started by a space scientist turned data scientist (Kirk Borne). A great way to keep up on what's happening in data science:  https://www.kdnuggets.com/ "
   ]
  },
  {
   "cell_type": "markdown",
   "metadata": {
    "id": "YPDhZshzN64Z"
   },
   "source": [
    "- Goddard ASTG Python courses (available to Helio community):  \n",
    "    - Python placement test (if you score >80% you may want to skip the beginner courses):  https://docs.google.com/forms/d/e/1FAIpQLSdXdI4yQI0voiZ8AZFYw5yyrXbiZAU87vHJm574PwP9l8IXdA/viewform\n",
    "    - Beginner Python: https://github.com/astg606/py_courses/tree/master/beginner_python\n",
    "    - Full Collection of Courses: https://github.com/astg606/py_courses/tree/master/virtual_courses\n",
    "\n",
    "\n",
    "- Michael Kirk’s tutorials (general + Sunpy): https://github.com/MSKirk/tutorials\n",
    "\n",
    "- HelioML book https://helioml.org/:  Edited by Monica Bobra and James Mason, a curated collection of interactive Jupyter Python notebooks, that explicitly shows the reader how to use machine learning, statistics, and data mining techniques on various kinds of heliophysics data sets to reproduce published results.\n",
    "\n",
    "*You can mention your favorite resources in the feedback form, and we'll add them to the list!*"
   ]
  },
  {
   "cell_type": "markdown",
   "metadata": {
    "id": "R8Y9AYe7N64a"
   },
  "kernelspec": {
   "display_name": "Python 3",
   "language": "python",
   "name": "python3"
  },
  "language_info": {
   "codemirror_mode": {
    "name": "ipython",
    "version": 3
   },
   "file_extension": ".py",
   "mimetype": "text/x-python",
   "name": "python",
   "nbconvert_exporter": "python",
   "pygments_lexer": "ipython3",
   "version": "3.8.8"
  }
 },
 "nbformat": 4,
 "nbformat_minor": 1
}
